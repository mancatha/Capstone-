{
 "cells": [
  {
   "cell_type": "markdown",
   "metadata": {},
   "source": [
    "## Business Understanding "
   ]
  },
  {
   "cell_type": "markdown",
   "metadata": {},
   "source": [
    "\n",
    "1. user_id, User identification\n",
    "2. REGION,the location of each client. Geographic region of the user\n",
    "3. TENURE,duration in the network. Tenure category (e.g., prepaid, postpaid).\n",
    "4. MONTANT,top-up amount. Monetary value.\n",
    "5. FREQUENCE_RECH, number of times the customer refilled. Numeric frequency \n",
    "6. REVENUE,monthly income of each client. Monetary value.\n",
    "7. ARPU_SEGMENT,income over 90 days / 3.  Monetary value.\n",
    "8. FREQUENCE,number of times the client has made an income.  Numeric frequency (how often the user uses the service).\n",
    "9. DATA_VOLUME,number of connections. Numeric data volume.\n",
    "10. ON_NET,inter expresso call. Numeric usage on the network.\n",
    "11. ORANGE,call to orange. Numeric usage on the Orange network.\n",
    "12. TIGO,call to Tigo. Numeric usage on the Tigo network.\n",
    "13. ZONE1,call to zones1. Numeric usage in specific zones.\n",
    "14. ZONE2,call to zones2. Numeric usage in specific zones.\n",
    "15. MRG,a client who is going. Numeric usage in specific zones.Categorical (merged or not merged).\n",
    "16. REGULARITY,number of times the client is active for 90 days.  Numeric regularity value.\n",
    "17. TOP_PACK,the most active packs.  Categorical package name.\n",
    "18. FREQ_TOP_PACK,number of times the client has activated the top pack packages.Numeric frequency.\n",
    "19. CHURN,variable to predict - Target.  Binary (churned or not churned).\n",
    "\n",
    "\n",
    "#### Goal \n",
    "#### Hypothesis\n",
    "#### Analytic questions"
   ]
  },
  {
   "cell_type": "markdown",
   "metadata": {},
   "source": [
    "## Data understanding "
   ]
  },
  {
   "cell_type": "code",
   "execution_count": 1,
   "metadata": {},
   "outputs": [],
   "source": [
    "# import the nesscery libraries\n",
    "import pandas as pd \n",
    "import numpy as np\n",
    "import matplotlib.pyplot as plt\n",
    "import seaborn as sns\n",
    "from sklearn.model_selection import train_test_split "
   ]
  },
  {
   "cell_type": "code",
   "execution_count": 2,
   "metadata": {},
   "outputs": [],
   "source": [
    "#load the train dataset\n",
    "df_train = pd.read_csv('data/Train (2).csv')"
   ]
  },
  {
   "cell_type": "code",
   "execution_count": 3,
   "metadata": {},
   "outputs": [],
   "source": [
    "#load the test dataset\n",
    "df_test =  pd.read_csv('data/Test.csv')"
   ]
  },
  {
   "cell_type": "code",
   "execution_count": 4,
   "metadata": {},
   "outputs": [
    {
     "data": {
      "text/html": [
       "<div>\n",
       "<style scoped>\n",
       "    .dataframe tbody tr th:only-of-type {\n",
       "        vertical-align: middle;\n",
       "    }\n",
       "\n",
       "    .dataframe tbody tr th {\n",
       "        vertical-align: top;\n",
       "    }\n",
       "\n",
       "    .dataframe thead th {\n",
       "        text-align: right;\n",
       "    }\n",
       "</style>\n",
       "<table border=\"1\" class=\"dataframe\">\n",
       "  <thead>\n",
       "    <tr style=\"text-align: right;\">\n",
       "      <th></th>\n",
       "      <th>user_id</th>\n",
       "      <th>REGION</th>\n",
       "      <th>TENURE</th>\n",
       "      <th>MONTANT</th>\n",
       "      <th>FREQUENCE_RECH</th>\n",
       "      <th>REVENUE</th>\n",
       "      <th>ARPU_SEGMENT</th>\n",
       "      <th>FREQUENCE</th>\n",
       "      <th>DATA_VOLUME</th>\n",
       "      <th>ON_NET</th>\n",
       "      <th>ORANGE</th>\n",
       "      <th>TIGO</th>\n",
       "      <th>ZONE1</th>\n",
       "      <th>ZONE2</th>\n",
       "      <th>MRG</th>\n",
       "      <th>REGULARITY</th>\n",
       "      <th>TOP_PACK</th>\n",
       "      <th>FREQ_TOP_PACK</th>\n",
       "      <th>CHURN</th>\n",
       "    </tr>\n",
       "  </thead>\n",
       "  <tbody>\n",
       "    <tr>\n",
       "      <th>0</th>\n",
       "      <td>7ee9e11e342e27c70455960acc80d3f91c1286d1</td>\n",
       "      <td>DAKAR</td>\n",
       "      <td>K &gt; 24 month</td>\n",
       "      <td>20000.0</td>\n",
       "      <td>47.0</td>\n",
       "      <td>21602.0</td>\n",
       "      <td>7201.0</td>\n",
       "      <td>52.0</td>\n",
       "      <td>8835.0</td>\n",
       "      <td>3391.0</td>\n",
       "      <td>396.0</td>\n",
       "      <td>185.0</td>\n",
       "      <td>NaN</td>\n",
       "      <td>NaN</td>\n",
       "      <td>NO</td>\n",
       "      <td>62</td>\n",
       "      <td>On net 200F=Unlimited _call24H</td>\n",
       "      <td>30.0</td>\n",
       "      <td>0</td>\n",
       "    </tr>\n",
       "    <tr>\n",
       "      <th>1</th>\n",
       "      <td>50443f42bdc92b10388fc56e520e4421a5fa655c</td>\n",
       "      <td>NaN</td>\n",
       "      <td>K &gt; 24 month</td>\n",
       "      <td>NaN</td>\n",
       "      <td>NaN</td>\n",
       "      <td>NaN</td>\n",
       "      <td>NaN</td>\n",
       "      <td>NaN</td>\n",
       "      <td>NaN</td>\n",
       "      <td>NaN</td>\n",
       "      <td>NaN</td>\n",
       "      <td>NaN</td>\n",
       "      <td>NaN</td>\n",
       "      <td>NaN</td>\n",
       "      <td>NO</td>\n",
       "      <td>3</td>\n",
       "      <td>NaN</td>\n",
       "      <td>NaN</td>\n",
       "      <td>0</td>\n",
       "    </tr>\n",
       "    <tr>\n",
       "      <th>2</th>\n",
       "      <td>da90b5c1a9b204c186079f89969aa01cb03c91b2</td>\n",
       "      <td>NaN</td>\n",
       "      <td>K &gt; 24 month</td>\n",
       "      <td>NaN</td>\n",
       "      <td>NaN</td>\n",
       "      <td>NaN</td>\n",
       "      <td>NaN</td>\n",
       "      <td>NaN</td>\n",
       "      <td>NaN</td>\n",
       "      <td>NaN</td>\n",
       "      <td>NaN</td>\n",
       "      <td>NaN</td>\n",
       "      <td>NaN</td>\n",
       "      <td>NaN</td>\n",
       "      <td>NO</td>\n",
       "      <td>1</td>\n",
       "      <td>NaN</td>\n",
       "      <td>NaN</td>\n",
       "      <td>0</td>\n",
       "    </tr>\n",
       "    <tr>\n",
       "      <th>3</th>\n",
       "      <td>364ec1b424cdc64c25441a444a16930289a0051e</td>\n",
       "      <td>SAINT-LOUIS</td>\n",
       "      <td>K &gt; 24 month</td>\n",
       "      <td>7900.0</td>\n",
       "      <td>19.0</td>\n",
       "      <td>7896.0</td>\n",
       "      <td>2632.0</td>\n",
       "      <td>25.0</td>\n",
       "      <td>9385.0</td>\n",
       "      <td>27.0</td>\n",
       "      <td>46.0</td>\n",
       "      <td>20.0</td>\n",
       "      <td>NaN</td>\n",
       "      <td>2.0</td>\n",
       "      <td>NO</td>\n",
       "      <td>61</td>\n",
       "      <td>Data:490F=1GB,7d</td>\n",
       "      <td>7.0</td>\n",
       "      <td>0</td>\n",
       "    </tr>\n",
       "    <tr>\n",
       "      <th>4</th>\n",
       "      <td>d5a5247005bc6d41d3d99f4ef312ebb5f640f2cb</td>\n",
       "      <td>DAKAR</td>\n",
       "      <td>K &gt; 24 month</td>\n",
       "      <td>12350.0</td>\n",
       "      <td>21.0</td>\n",
       "      <td>12351.0</td>\n",
       "      <td>4117.0</td>\n",
       "      <td>29.0</td>\n",
       "      <td>9360.0</td>\n",
       "      <td>66.0</td>\n",
       "      <td>102.0</td>\n",
       "      <td>34.0</td>\n",
       "      <td>NaN</td>\n",
       "      <td>NaN</td>\n",
       "      <td>NO</td>\n",
       "      <td>56</td>\n",
       "      <td>All-net 500F=2000F;5d</td>\n",
       "      <td>11.0</td>\n",
       "      <td>0</td>\n",
       "    </tr>\n",
       "  </tbody>\n",
       "</table>\n",
       "</div>"
      ],
      "text/plain": [
       "                                    user_id       REGION        TENURE  \\\n",
       "0  7ee9e11e342e27c70455960acc80d3f91c1286d1        DAKAR  K > 24 month   \n",
       "1  50443f42bdc92b10388fc56e520e4421a5fa655c          NaN  K > 24 month   \n",
       "2  da90b5c1a9b204c186079f89969aa01cb03c91b2          NaN  K > 24 month   \n",
       "3  364ec1b424cdc64c25441a444a16930289a0051e  SAINT-LOUIS  K > 24 month   \n",
       "4  d5a5247005bc6d41d3d99f4ef312ebb5f640f2cb        DAKAR  K > 24 month   \n",
       "\n",
       "   MONTANT  FREQUENCE_RECH  REVENUE  ARPU_SEGMENT  FREQUENCE  DATA_VOLUME  \\\n",
       "0  20000.0            47.0  21602.0        7201.0       52.0       8835.0   \n",
       "1      NaN             NaN      NaN           NaN        NaN          NaN   \n",
       "2      NaN             NaN      NaN           NaN        NaN          NaN   \n",
       "3   7900.0            19.0   7896.0        2632.0       25.0       9385.0   \n",
       "4  12350.0            21.0  12351.0        4117.0       29.0       9360.0   \n",
       "\n",
       "   ON_NET  ORANGE   TIGO  ZONE1  ZONE2 MRG  REGULARITY  \\\n",
       "0  3391.0   396.0  185.0    NaN    NaN  NO          62   \n",
       "1     NaN     NaN    NaN    NaN    NaN  NO           3   \n",
       "2     NaN     NaN    NaN    NaN    NaN  NO           1   \n",
       "3    27.0    46.0   20.0    NaN    2.0  NO          61   \n",
       "4    66.0   102.0   34.0    NaN    NaN  NO          56   \n",
       "\n",
       "                         TOP_PACK  FREQ_TOP_PACK  CHURN  \n",
       "0  On net 200F=Unlimited _call24H           30.0      0  \n",
       "1                             NaN            NaN      0  \n",
       "2                             NaN            NaN      0  \n",
       "3                Data:490F=1GB,7d            7.0      0  \n",
       "4           All-net 500F=2000F;5d           11.0      0  "
      ]
     },
     "execution_count": 4,
     "metadata": {},
     "output_type": "execute_result"
    }
   ],
   "source": [
    "#check the head of the train dataset \n",
    "df_train.head(5)"
   ]
  },
  {
   "cell_type": "code",
   "execution_count": 5,
   "metadata": {},
   "outputs": [
    {
     "data": {
      "text/html": [
       "<div>\n",
       "<style scoped>\n",
       "    .dataframe tbody tr th:only-of-type {\n",
       "        vertical-align: middle;\n",
       "    }\n",
       "\n",
       "    .dataframe tbody tr th {\n",
       "        vertical-align: top;\n",
       "    }\n",
       "\n",
       "    .dataframe thead th {\n",
       "        text-align: right;\n",
       "    }\n",
       "</style>\n",
       "<table border=\"1\" class=\"dataframe\">\n",
       "  <thead>\n",
       "    <tr style=\"text-align: right;\">\n",
       "      <th></th>\n",
       "      <th>user_id</th>\n",
       "      <th>REGION</th>\n",
       "      <th>TENURE</th>\n",
       "      <th>MONTANT</th>\n",
       "      <th>FREQUENCE_RECH</th>\n",
       "      <th>REVENUE</th>\n",
       "      <th>ARPU_SEGMENT</th>\n",
       "      <th>FREQUENCE</th>\n",
       "      <th>DATA_VOLUME</th>\n",
       "      <th>ON_NET</th>\n",
       "      <th>ORANGE</th>\n",
       "      <th>TIGO</th>\n",
       "      <th>ZONE1</th>\n",
       "      <th>ZONE2</th>\n",
       "      <th>MRG</th>\n",
       "      <th>REGULARITY</th>\n",
       "      <th>TOP_PACK</th>\n",
       "      <th>FREQ_TOP_PACK</th>\n",
       "    </tr>\n",
       "  </thead>\n",
       "  <tbody>\n",
       "    <tr>\n",
       "      <th>0</th>\n",
       "      <td>51fe4c3347db1f8571d18ac03f716c41acee30a4</td>\n",
       "      <td>MATAM</td>\n",
       "      <td>I 18-21 month</td>\n",
       "      <td>2500.0</td>\n",
       "      <td>5.0</td>\n",
       "      <td>2500.0</td>\n",
       "      <td>833.0</td>\n",
       "      <td>5.0</td>\n",
       "      <td>0.0</td>\n",
       "      <td>64.0</td>\n",
       "      <td>70.0</td>\n",
       "      <td>NaN</td>\n",
       "      <td>NaN</td>\n",
       "      <td>NaN</td>\n",
       "      <td>NO</td>\n",
       "      <td>35</td>\n",
       "      <td>All-net 500F=2000F;5d</td>\n",
       "      <td>5.0</td>\n",
       "    </tr>\n",
       "    <tr>\n",
       "      <th>1</th>\n",
       "      <td>5ad5d67c175bce107cc97b98c4e37dcc38aa7f3e</td>\n",
       "      <td>NaN</td>\n",
       "      <td>K &gt; 24 month</td>\n",
       "      <td>NaN</td>\n",
       "      <td>NaN</td>\n",
       "      <td>NaN</td>\n",
       "      <td>NaN</td>\n",
       "      <td>NaN</td>\n",
       "      <td>NaN</td>\n",
       "      <td>NaN</td>\n",
       "      <td>NaN</td>\n",
       "      <td>NaN</td>\n",
       "      <td>NaN</td>\n",
       "      <td>NaN</td>\n",
       "      <td>NO</td>\n",
       "      <td>2</td>\n",
       "      <td>NaN</td>\n",
       "      <td>NaN</td>\n",
       "    </tr>\n",
       "    <tr>\n",
       "      <th>2</th>\n",
       "      <td>5a4db591c953a8d8f373877fad37aaf4268899a1</td>\n",
       "      <td>NaN</td>\n",
       "      <td>K &gt; 24 month</td>\n",
       "      <td>NaN</td>\n",
       "      <td>NaN</td>\n",
       "      <td>NaN</td>\n",
       "      <td>NaN</td>\n",
       "      <td>NaN</td>\n",
       "      <td>0.0</td>\n",
       "      <td>NaN</td>\n",
       "      <td>NaN</td>\n",
       "      <td>NaN</td>\n",
       "      <td>NaN</td>\n",
       "      <td>NaN</td>\n",
       "      <td>NO</td>\n",
       "      <td>22</td>\n",
       "      <td>NaN</td>\n",
       "      <td>NaN</td>\n",
       "    </tr>\n",
       "    <tr>\n",
       "      <th>3</th>\n",
       "      <td>8bf9b4d8880aeba1c9a0da48be78f12e629be37c</td>\n",
       "      <td>NaN</td>\n",
       "      <td>K &gt; 24 month</td>\n",
       "      <td>NaN</td>\n",
       "      <td>NaN</td>\n",
       "      <td>NaN</td>\n",
       "      <td>NaN</td>\n",
       "      <td>NaN</td>\n",
       "      <td>NaN</td>\n",
       "      <td>NaN</td>\n",
       "      <td>NaN</td>\n",
       "      <td>NaN</td>\n",
       "      <td>NaN</td>\n",
       "      <td>NaN</td>\n",
       "      <td>NO</td>\n",
       "      <td>6</td>\n",
       "      <td>NaN</td>\n",
       "      <td>NaN</td>\n",
       "    </tr>\n",
       "    <tr>\n",
       "      <th>4</th>\n",
       "      <td>c7cdf2af01e9fa95bf498b68c122aa4b9a8d10df</td>\n",
       "      <td>SAINT-LOUIS</td>\n",
       "      <td>K &gt; 24 month</td>\n",
       "      <td>5100.0</td>\n",
       "      <td>7.0</td>\n",
       "      <td>5637.0</td>\n",
       "      <td>1879.0</td>\n",
       "      <td>15.0</td>\n",
       "      <td>7783.0</td>\n",
       "      <td>30.0</td>\n",
       "      <td>24.0</td>\n",
       "      <td>0.0</td>\n",
       "      <td>0.0</td>\n",
       "      <td>NaN</td>\n",
       "      <td>NO</td>\n",
       "      <td>60</td>\n",
       "      <td>Data:1000F=2GB,30d</td>\n",
       "      <td>4.0</td>\n",
       "    </tr>\n",
       "  </tbody>\n",
       "</table>\n",
       "</div>"
      ],
      "text/plain": [
       "                                    user_id       REGION         TENURE  \\\n",
       "0  51fe4c3347db1f8571d18ac03f716c41acee30a4        MATAM  I 18-21 month   \n",
       "1  5ad5d67c175bce107cc97b98c4e37dcc38aa7f3e          NaN   K > 24 month   \n",
       "2  5a4db591c953a8d8f373877fad37aaf4268899a1          NaN   K > 24 month   \n",
       "3  8bf9b4d8880aeba1c9a0da48be78f12e629be37c          NaN   K > 24 month   \n",
       "4  c7cdf2af01e9fa95bf498b68c122aa4b9a8d10df  SAINT-LOUIS   K > 24 month   \n",
       "\n",
       "   MONTANT  FREQUENCE_RECH  REVENUE  ARPU_SEGMENT  FREQUENCE  DATA_VOLUME  \\\n",
       "0   2500.0             5.0   2500.0         833.0        5.0          0.0   \n",
       "1      NaN             NaN      NaN           NaN        NaN          NaN   \n",
       "2      NaN             NaN      NaN           NaN        NaN          0.0   \n",
       "3      NaN             NaN      NaN           NaN        NaN          NaN   \n",
       "4   5100.0             7.0   5637.0        1879.0       15.0       7783.0   \n",
       "\n",
       "   ON_NET  ORANGE  TIGO  ZONE1  ZONE2 MRG  REGULARITY               TOP_PACK  \\\n",
       "0    64.0    70.0   NaN    NaN    NaN  NO          35  All-net 500F=2000F;5d   \n",
       "1     NaN     NaN   NaN    NaN    NaN  NO           2                    NaN   \n",
       "2     NaN     NaN   NaN    NaN    NaN  NO          22                    NaN   \n",
       "3     NaN     NaN   NaN    NaN    NaN  NO           6                    NaN   \n",
       "4    30.0    24.0   0.0    0.0    NaN  NO          60     Data:1000F=2GB,30d   \n",
       "\n",
       "   FREQ_TOP_PACK  \n",
       "0            5.0  \n",
       "1            NaN  \n",
       "2            NaN  \n",
       "3            NaN  \n",
       "4            4.0  "
      ]
     },
     "execution_count": 5,
     "metadata": {},
     "output_type": "execute_result"
    }
   ],
   "source": [
    "#check the head of the test dataset \n",
    "df_test.head(5)"
   ]
  },
  {
   "cell_type": "code",
   "execution_count": 6,
   "metadata": {},
   "outputs": [
    {
     "name": "stdout",
     "output_type": "stream",
     "text": [
      "<class 'pandas.core.frame.DataFrame'>\n",
      "RangeIndex: 1077024 entries, 0 to 1077023\n",
      "Data columns (total 19 columns):\n",
      " #   Column          Non-Null Count    Dtype  \n",
      "---  ------          --------------    -----  \n",
      " 0   user_id         1077024 non-null  object \n",
      " 1   REGION          652687 non-null   object \n",
      " 2   TENURE          1077024 non-null  object \n",
      " 3   MONTANT         699139 non-null   float64\n",
      " 4   FREQUENCE_RECH  699139 non-null   float64\n",
      " 5   REVENUE         714669 non-null   float64\n",
      " 6   ARPU_SEGMENT    714669 non-null   float64\n",
      " 7   FREQUENCE       714669 non-null   float64\n",
      " 8   DATA_VOLUME     547261 non-null   float64\n",
      " 9   ON_NET          683850 non-null   float64\n",
      " 10  ORANGE          629880 non-null   float64\n",
      " 11  TIGO            432250 non-null   float64\n",
      " 12  ZONE1           84898 non-null    float64\n",
      " 13  ZONE2           68794 non-null    float64\n",
      " 14  MRG             1077024 non-null  object \n",
      " 15  REGULARITY      1077024 non-null  int64  \n",
      " 16  TOP_PACK        626129 non-null   object \n",
      " 17  FREQ_TOP_PACK   626129 non-null   float64\n",
      " 18  CHURN           1077024 non-null  int64  \n",
      "dtypes: float64(12), int64(2), object(5)\n",
      "memory usage: 156.1+ MB\n"
     ]
    }
   ],
   "source": [
    "#check the info of the train dataset\n",
    "df_train.info()"
   ]
  },
  {
   "cell_type": "code",
   "execution_count": 7,
   "metadata": {},
   "outputs": [
    {
     "name": "stdout",
     "output_type": "stream",
     "text": [
      "<class 'pandas.core.frame.DataFrame'>\n",
      "RangeIndex: 190063 entries, 0 to 190062\n",
      "Data columns (total 18 columns):\n",
      " #   Column          Non-Null Count   Dtype  \n",
      "---  ------          --------------   -----  \n",
      " 0   user_id         190063 non-null  object \n",
      " 1   REGION          115330 non-null  object \n",
      " 2   TENURE          190063 non-null  object \n",
      " 3   MONTANT         123695 non-null  float64\n",
      " 4   FREQUENCE_RECH  123695 non-null  float64\n",
      " 5   REVENUE         126422 non-null  float64\n",
      " 6   ARPU_SEGMENT    126422 non-null  float64\n",
      " 7   FREQUENCE       126422 non-null  float64\n",
      " 8   DATA_VOLUME     96716 non-null   float64\n",
      " 9   ON_NET          120771 non-null  float64\n",
      " 10  ORANGE          111417 non-null  float64\n",
      " 11  TIGO            76555 non-null   float64\n",
      " 12  ZONE1           14850 non-null   float64\n",
      " 13  ZONE2           12011 non-null   float64\n",
      " 14  MRG             190063 non-null  object \n",
      " 15  REGULARITY      190063 non-null  int64  \n",
      " 16  TOP_PACK        110773 non-null  object \n",
      " 17  FREQ_TOP_PACK   110773 non-null  float64\n",
      "dtypes: float64(12), int64(1), object(5)\n",
      "memory usage: 26.1+ MB\n"
     ]
    }
   ],
   "source": [
    "#check the info of the test dataset\n",
    "df_test.info()"
   ]
  },
  {
   "cell_type": "code",
   "execution_count": 8,
   "metadata": {},
   "outputs": [
    {
     "data": {
      "text/plain": [
       "user_id                 0\n",
       "REGION             424337\n",
       "TENURE                  0\n",
       "MONTANT            377885\n",
       "FREQUENCE_RECH     377885\n",
       "REVENUE            362355\n",
       "ARPU_SEGMENT       362355\n",
       "FREQUENCE          362355\n",
       "DATA_VOLUME        529763\n",
       "ON_NET             393174\n",
       "ORANGE             447144\n",
       "TIGO               644774\n",
       "ZONE1              992126\n",
       "ZONE2             1008230\n",
       "MRG                     0\n",
       "REGULARITY              0\n",
       "TOP_PACK           450895\n",
       "FREQ_TOP_PACK      450895\n",
       "CHURN                   0\n",
       "dtype: int64"
      ]
     },
     "execution_count": 8,
     "metadata": {},
     "output_type": "execute_result"
    }
   ],
   "source": [
    "# checking for null values on the train dataset\n",
    "df_train.isnull().sum()"
   ]
  },
  {
   "cell_type": "code",
   "execution_count": 9,
   "metadata": {},
   "outputs": [
    {
     "data": {
      "text/plain": [
       "user_id                0\n",
       "REGION             74733\n",
       "TENURE                 0\n",
       "MONTANT            66368\n",
       "FREQUENCE_RECH     66368\n",
       "REVENUE            63641\n",
       "ARPU_SEGMENT       63641\n",
       "FREQUENCE          63641\n",
       "DATA_VOLUME        93347\n",
       "ON_NET             69292\n",
       "ORANGE             78646\n",
       "TIGO              113508\n",
       "ZONE1             175213\n",
       "ZONE2             178052\n",
       "MRG                    0\n",
       "REGULARITY             0\n",
       "TOP_PACK           79290\n",
       "FREQ_TOP_PACK      79290\n",
       "dtype: int64"
      ]
     },
     "execution_count": 9,
     "metadata": {},
     "output_type": "execute_result"
    }
   ],
   "source": [
    "#checking for the null value on the test dataset\n",
    "df_test.isnull().sum()"
   ]
  },
  {
   "cell_type": "code",
   "execution_count": 10,
   "metadata": {},
   "outputs": [
    {
     "data": {
      "text/plain": [
       "(1077024, 19)"
      ]
     },
     "execution_count": 10,
     "metadata": {},
     "output_type": "execute_result"
    }
   ],
   "source": [
    "#checking the shape of the train dataset \n",
    "df_train.shape"
   ]
  },
  {
   "cell_type": "code",
   "execution_count": 11,
   "metadata": {},
   "outputs": [
    {
     "data": {
      "text/plain": [
       "(190063, 18)"
      ]
     },
     "execution_count": 11,
     "metadata": {},
     "output_type": "execute_result"
    }
   ],
   "source": [
    "#checking the shape of the test data\n",
    "df_test.shape"
   ]
  },
  {
   "cell_type": "code",
   "execution_count": 12,
   "metadata": {},
   "outputs": [
    {
     "data": {
      "text/plain": [
       "0"
      ]
     },
     "execution_count": 12,
     "metadata": {},
     "output_type": "execute_result"
    }
   ],
   "source": [
    "#checking for dublicate on the train \n",
    "df_train.duplicated().sum()\n"
   ]
  },
  {
   "cell_type": "code",
   "execution_count": 13,
   "metadata": {},
   "outputs": [
    {
     "data": {
      "text/plain": [
       "0"
      ]
     },
     "execution_count": 13,
     "metadata": {},
     "output_type": "execute_result"
    }
   ],
   "source": [
    "# checking for dublicate on the test \n",
    "df_test.duplicated().sum()"
   ]
  },
  {
   "cell_type": "code",
   "execution_count": 14,
   "metadata": {},
   "outputs": [
    {
     "data": {
      "text/html": [
       "<div>\n",
       "<style scoped>\n",
       "    .dataframe tbody tr th:only-of-type {\n",
       "        vertical-align: middle;\n",
       "    }\n",
       "\n",
       "    .dataframe tbody tr th {\n",
       "        vertical-align: top;\n",
       "    }\n",
       "\n",
       "    .dataframe thead th {\n",
       "        text-align: right;\n",
       "    }\n",
       "</style>\n",
       "<table border=\"1\" class=\"dataframe\">\n",
       "  <thead>\n",
       "    <tr style=\"text-align: right;\">\n",
       "      <th></th>\n",
       "      <th>count</th>\n",
       "      <th>mean</th>\n",
       "      <th>std</th>\n",
       "      <th>min</th>\n",
       "      <th>25%</th>\n",
       "      <th>50%</th>\n",
       "      <th>75%</th>\n",
       "      <th>max</th>\n",
       "    </tr>\n",
       "  </thead>\n",
       "  <tbody>\n",
       "    <tr>\n",
       "      <th>MONTANT</th>\n",
       "      <td>699139.0</td>\n",
       "      <td>5529.210895</td>\n",
       "      <td>7104.737952</td>\n",
       "      <td>20.0</td>\n",
       "      <td>1000.0</td>\n",
       "      <td>3000.0</td>\n",
       "      <td>7350.0</td>\n",
       "      <td>470000.0</td>\n",
       "    </tr>\n",
       "    <tr>\n",
       "      <th>FREQUENCE_RECH</th>\n",
       "      <td>699139.0</td>\n",
       "      <td>11.523756</td>\n",
       "      <td>13.261938</td>\n",
       "      <td>1.0</td>\n",
       "      <td>2.0</td>\n",
       "      <td>7.0</td>\n",
       "      <td>16.0</td>\n",
       "      <td>131.0</td>\n",
       "    </tr>\n",
       "    <tr>\n",
       "      <th>REVENUE</th>\n",
       "      <td>714669.0</td>\n",
       "      <td>5506.050798</td>\n",
       "      <td>7175.625010</td>\n",
       "      <td>1.0</td>\n",
       "      <td>1000.0</td>\n",
       "      <td>3000.0</td>\n",
       "      <td>7360.0</td>\n",
       "      <td>532177.0</td>\n",
       "    </tr>\n",
       "    <tr>\n",
       "      <th>ARPU_SEGMENT</th>\n",
       "      <td>714669.0</td>\n",
       "      <td>1835.355961</td>\n",
       "      <td>2391.870902</td>\n",
       "      <td>0.0</td>\n",
       "      <td>333.0</td>\n",
       "      <td>1000.0</td>\n",
       "      <td>2453.0</td>\n",
       "      <td>177392.0</td>\n",
       "    </tr>\n",
       "    <tr>\n",
       "      <th>FREQUENCE</th>\n",
       "      <td>714669.0</td>\n",
       "      <td>13.974439</td>\n",
       "      <td>14.687059</td>\n",
       "      <td>1.0</td>\n",
       "      <td>3.0</td>\n",
       "      <td>9.0</td>\n",
       "      <td>20.0</td>\n",
       "      <td>91.0</td>\n",
       "    </tr>\n",
       "    <tr>\n",
       "      <th>DATA_VOLUME</th>\n",
       "      <td>547261.0</td>\n",
       "      <td>3368.801722</td>\n",
       "      <td>12898.928039</td>\n",
       "      <td>0.0</td>\n",
       "      <td>0.0</td>\n",
       "      <td>258.0</td>\n",
       "      <td>2905.0</td>\n",
       "      <td>1702309.0</td>\n",
       "    </tr>\n",
       "    <tr>\n",
       "      <th>ON_NET</th>\n",
       "      <td>683850.0</td>\n",
       "      <td>277.065798</td>\n",
       "      <td>874.315378</td>\n",
       "      <td>0.0</td>\n",
       "      <td>5.0</td>\n",
       "      <td>27.0</td>\n",
       "      <td>156.0</td>\n",
       "      <td>50809.0</td>\n",
       "    </tr>\n",
       "    <tr>\n",
       "      <th>ORANGE</th>\n",
       "      <td>629880.0</td>\n",
       "      <td>95.160804</td>\n",
       "      <td>203.020261</td>\n",
       "      <td>0.0</td>\n",
       "      <td>7.0</td>\n",
       "      <td>29.0</td>\n",
       "      <td>99.0</td>\n",
       "      <td>12040.0</td>\n",
       "    </tr>\n",
       "    <tr>\n",
       "      <th>TIGO</th>\n",
       "      <td>432250.0</td>\n",
       "      <td>23.105018</td>\n",
       "      <td>64.035464</td>\n",
       "      <td>0.0</td>\n",
       "      <td>2.0</td>\n",
       "      <td>6.0</td>\n",
       "      <td>20.0</td>\n",
       "      <td>4174.0</td>\n",
       "    </tr>\n",
       "    <tr>\n",
       "      <th>ZONE1</th>\n",
       "      <td>84898.0</td>\n",
       "      <td>8.167483</td>\n",
       "      <td>39.245883</td>\n",
       "      <td>0.0</td>\n",
       "      <td>0.0</td>\n",
       "      <td>1.0</td>\n",
       "      <td>3.0</td>\n",
       "      <td>2507.0</td>\n",
       "    </tr>\n",
       "    <tr>\n",
       "      <th>ZONE2</th>\n",
       "      <td>68794.0</td>\n",
       "      <td>7.709844</td>\n",
       "      <td>36.090513</td>\n",
       "      <td>0.0</td>\n",
       "      <td>0.0</td>\n",
       "      <td>2.0</td>\n",
       "      <td>5.0</td>\n",
       "      <td>3697.0</td>\n",
       "    </tr>\n",
       "    <tr>\n",
       "      <th>REGULARITY</th>\n",
       "      <td>1077024.0</td>\n",
       "      <td>28.044496</td>\n",
       "      <td>22.288610</td>\n",
       "      <td>1.0</td>\n",
       "      <td>6.0</td>\n",
       "      <td>24.0</td>\n",
       "      <td>51.0</td>\n",
       "      <td>62.0</td>\n",
       "    </tr>\n",
       "    <tr>\n",
       "      <th>FREQ_TOP_PACK</th>\n",
       "      <td>626129.0</td>\n",
       "      <td>9.262446</td>\n",
       "      <td>12.242316</td>\n",
       "      <td>1.0</td>\n",
       "      <td>2.0</td>\n",
       "      <td>5.0</td>\n",
       "      <td>12.0</td>\n",
       "      <td>624.0</td>\n",
       "    </tr>\n",
       "    <tr>\n",
       "      <th>CHURN</th>\n",
       "      <td>1077024.0</td>\n",
       "      <td>0.187547</td>\n",
       "      <td>0.390350</td>\n",
       "      <td>0.0</td>\n",
       "      <td>0.0</td>\n",
       "      <td>0.0</td>\n",
       "      <td>0.0</td>\n",
       "      <td>1.0</td>\n",
       "    </tr>\n",
       "  </tbody>\n",
       "</table>\n",
       "</div>"
      ],
      "text/plain": [
       "                    count         mean           std   min     25%     50%  \\\n",
       "MONTANT          699139.0  5529.210895   7104.737952  20.0  1000.0  3000.0   \n",
       "FREQUENCE_RECH   699139.0    11.523756     13.261938   1.0     2.0     7.0   \n",
       "REVENUE          714669.0  5506.050798   7175.625010   1.0  1000.0  3000.0   \n",
       "ARPU_SEGMENT     714669.0  1835.355961   2391.870902   0.0   333.0  1000.0   \n",
       "FREQUENCE        714669.0    13.974439     14.687059   1.0     3.0     9.0   \n",
       "DATA_VOLUME      547261.0  3368.801722  12898.928039   0.0     0.0   258.0   \n",
       "ON_NET           683850.0   277.065798    874.315378   0.0     5.0    27.0   \n",
       "ORANGE           629880.0    95.160804    203.020261   0.0     7.0    29.0   \n",
       "TIGO             432250.0    23.105018     64.035464   0.0     2.0     6.0   \n",
       "ZONE1             84898.0     8.167483     39.245883   0.0     0.0     1.0   \n",
       "ZONE2             68794.0     7.709844     36.090513   0.0     0.0     2.0   \n",
       "REGULARITY      1077024.0    28.044496     22.288610   1.0     6.0    24.0   \n",
       "FREQ_TOP_PACK    626129.0     9.262446     12.242316   1.0     2.0     5.0   \n",
       "CHURN           1077024.0     0.187547      0.390350   0.0     0.0     0.0   \n",
       "\n",
       "                   75%        max  \n",
       "MONTANT         7350.0   470000.0  \n",
       "FREQUENCE_RECH    16.0      131.0  \n",
       "REVENUE         7360.0   532177.0  \n",
       "ARPU_SEGMENT    2453.0   177392.0  \n",
       "FREQUENCE         20.0       91.0  \n",
       "DATA_VOLUME     2905.0  1702309.0  \n",
       "ON_NET           156.0    50809.0  \n",
       "ORANGE            99.0    12040.0  \n",
       "TIGO              20.0     4174.0  \n",
       "ZONE1              3.0     2507.0  \n",
       "ZONE2              5.0     3697.0  \n",
       "REGULARITY        51.0       62.0  \n",
       "FREQ_TOP_PACK     12.0      624.0  \n",
       "CHURN              0.0        1.0  "
      ]
     },
     "execution_count": 14,
     "metadata": {},
     "output_type": "execute_result"
    }
   ],
   "source": [
    "#  cheking the stasitical on the train \n",
    "df_train.describe().T"
   ]
  },
  {
   "cell_type": "markdown",
   "metadata": {},
   "source": [
    "#### cleaning the dataset by filling in the missing values"
   ]
  },
  {
   "cell_type": "code",
   "execution_count": 15,
   "metadata": {},
   "outputs": [],
   "source": [
    "# Fill missing values for each numeric column with its mean of the train dataset\n",
    "numeric_columns = df_train.select_dtypes(include='number').columns\n",
    "for column in numeric_columns:\n",
    "    df_train[column].fillna(df_train[column].mean(), inplace=True)\n"
   ]
  },
  {
   "cell_type": "code",
   "execution_count": 16,
   "metadata": {},
   "outputs": [],
   "source": [
    "# for mode imputation\n",
    "df_train['REGION'].fillna(df_train['REGION'].mode()[0], inplace=True)\n"
   ]
  },
  {
   "cell_type": "code",
   "execution_count": 17,
   "metadata": {},
   "outputs": [],
   "source": [
    "# Example for filling with a constant (e.g., 'Unknown')\n",
    "df_train['TOP_PACK'].fillna('Unknown', inplace=True)\n"
   ]
  },
  {
   "cell_type": "code",
   "execution_count": 18,
   "metadata": {},
   "outputs": [
    {
     "data": {
      "text/plain": [
       "user_id           0\n",
       "REGION            0\n",
       "TENURE            0\n",
       "MONTANT           0\n",
       "FREQUENCE_RECH    0\n",
       "REVENUE           0\n",
       "ARPU_SEGMENT      0\n",
       "FREQUENCE         0\n",
       "DATA_VOLUME       0\n",
       "ON_NET            0\n",
       "ORANGE            0\n",
       "TIGO              0\n",
       "ZONE1             0\n",
       "ZONE2             0\n",
       "MRG               0\n",
       "REGULARITY        0\n",
       "TOP_PACK          0\n",
       "FREQ_TOP_PACK     0\n",
       "CHURN             0\n",
       "dtype: int64"
      ]
     },
     "execution_count": 18,
     "metadata": {},
     "output_type": "execute_result"
    }
   ],
   "source": [
    "df_train.isnull().sum()"
   ]
  },
  {
   "cell_type": "code",
   "execution_count": 19,
   "metadata": {},
   "outputs": [],
   "source": [
    "# Fill missing values for each numeric column with its mean of the test dataset\n",
    "numeric_columns = df_test.select_dtypes(include='number').columns\n",
    "for column in numeric_columns:\n",
    "    df_test[column].fillna(df_test[column].mean(), inplace=True)\n"
   ]
  },
  {
   "cell_type": "code",
   "execution_count": 20,
   "metadata": {},
   "outputs": [],
   "source": [
    "# for mode imputation\n",
    "df_test['REGION'].fillna(df_test['REGION'].mode()[0], inplace=True)"
   ]
  },
  {
   "cell_type": "code",
   "execution_count": 21,
   "metadata": {},
   "outputs": [],
   "source": [
    "# Example for filling with a constant (e.g., 'Unknown')\n",
    "df_test['TOP_PACK'].fillna('Unknown', inplace=True)"
   ]
  },
  {
   "cell_type": "code",
   "execution_count": 22,
   "metadata": {},
   "outputs": [
    {
     "data": {
      "text/plain": [
       "user_id           0\n",
       "REGION            0\n",
       "TENURE            0\n",
       "MONTANT           0\n",
       "FREQUENCE_RECH    0\n",
       "REVENUE           0\n",
       "ARPU_SEGMENT      0\n",
       "FREQUENCE         0\n",
       "DATA_VOLUME       0\n",
       "ON_NET            0\n",
       "ORANGE            0\n",
       "TIGO              0\n",
       "ZONE1             0\n",
       "ZONE2             0\n",
       "MRG               0\n",
       "REGULARITY        0\n",
       "TOP_PACK          0\n",
       "FREQ_TOP_PACK     0\n",
       "dtype: int64"
      ]
     },
     "execution_count": 22,
     "metadata": {},
     "output_type": "execute_result"
    }
   ],
   "source": [
    "df_test.isnull().sum()"
   ]
  },
  {
   "cell_type": "markdown",
   "metadata": {},
   "source": [
    "#### EDA"
   ]
  },
  {
   "cell_type": "markdown",
   "metadata": {},
   "source": [
    "#### univariate"
   ]
  },
  {
   "cell_type": "markdown",
   "metadata": {},
   "source": [
    "#### Bivariate analysis "
   ]
  },
  {
   "cell_type": "markdown",
   "metadata": {},
   "source": [
    "#### Multivariate"
   ]
  },
  {
   "cell_type": "markdown",
   "metadata": {},
   "source": [
    "## Data Preparation "
   ]
  },
  {
   "cell_type": "markdown",
   "metadata": {},
   "source": [
    "## Modeling "
   ]
  },
  {
   "cell_type": "markdown",
   "metadata": {},
   "source": [
    "## Evaluation "
   ]
  },
  {
   "cell_type": "markdown",
   "metadata": {},
   "source": []
  }
 ],
 "metadata": {
  "kernelspec": {
   "display_name": "Python 3",
   "language": "python",
   "name": "python3"
  },
  "language_info": {
   "codemirror_mode": {
    "name": "ipython",
    "version": 3
   },
   "file_extension": ".py",
   "mimetype": "text/x-python",
   "name": "python",
   "nbconvert_exporter": "python",
   "pygments_lexer": "ipython3",
   "version": "3.11.7"
  }
 },
 "nbformat": 4,
 "nbformat_minor": 2
}
