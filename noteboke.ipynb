{
 "cells": [
  {
   "cell_type": "markdown",
   "metadata": {},
   "source": [
    "## Business Understanding \n",
    "\n",
    "There is need for company's to understand their consumers behaviours, tastes and preferences in order to have a competitive edge over competitors. Churn analysis determines likelihood of customers ceasing to consume products or services from a company. Proactive and data-driven businesses are able to leverage on analytics to analyse customer behaviours, strategize customer retention activities, and effectively prioritize their resources to attain business success.  This project's goal is to  develop a machine learning model for a telecommunications company that predicts likelihood of customers churning.(i.e becoming inactive and not making any transactions for 90 days). This solution will help the telecom commpany to better serve their customers by understanding which customers are at risk of leaving."
   ]
  },
  {
   "cell_type": "markdown",
   "metadata": {},
   "source": [
    "\n",
    "1. user_id, User identification\n",
    "2. REGION,the location of each client. Geographic region of the user\n",
    "3. TENURE,duration in the network. Tenure category (e.g., prepaid, postpaid).\n",
    "4. MONTANT,top-up amount. Monetary value.\n",
    "5. FREQUENCE_RECH, number of times the customer refilled. Numeric frequency \n",
    "6. REVENUE,monthly income of each client. Monetary value.\n",
    "7. ARPU_SEGMENT,income over 90 days / 3.  Monetary value.\n",
    "8. FREQUENCE,number of times the client has made an income.  Numeric frequency (how often the user uses the service).\n",
    "9. DATA_VOLUME,number of connections. Numeric data volume.\n",
    "10. ON_NET,inter expresso call. Numeric usage on the network.\n",
    "11. ORANGE,call to orange. Numeric usage on the Orange network.\n",
    "12. TIGO,call to Tigo. Numeric usage on the Tigo network.\n",
    "13. ZONE1,call to zones1. Numeric usage in specific zones.\n",
    "14. ZONE2,call to zones2. Numeric usage in specific zones.\n",
    "15. MRG,a client who is going. Numeric usage in specific zones.Categorical (merged or not merged).\n",
    "16. REGULARITY,number of times the client is active for 90 days.  Numeric regularity value.\n",
    "17. TOP_PACK,the most active packs.  Categorical package name.\n",
    "18. FREQ_TOP_PACK,number of times the client has activated the top pack packages.Numeric frequency.\n",
    "19. CHURN,variable to predict - Target.  Binary (churned or not churned).\n",
    "\n",
    "\n",
    "#### Goal \n",
    "#### Hypothesis\n",
    "#### Analytic questions"
   ]
  },
  {
   "cell_type": "markdown",
   "metadata": {},
   "source": [
    "## Data understanding "
   ]
  },
  {
   "cell_type": "code",
   "execution_count": 1,
   "metadata": {},
   "outputs": [],
   "source": [
    "# import the nesscery libraries\n",
    "import pandas as pd \n",
    "import numpy as np\n",
    "import matplotlib.pyplot as plt\n",
    "import seaborn as sns\n",
    "from sklearn.model_selection import train_test_split \n",
    "from imblearn.over_sampling import RandomOverSampler\n",
    "from sklearn.compose import ColumnTransformer\n",
    "from sklearn.pipeline import Pipeline\n",
    "from sklearn.preprocessing import StandardScaler, OneHotEncoder\n",
    "from xgboost import XGBClassifier\n",
    "from sklearn.tree import DecisionTreeClassifier\n",
    "from sklearn.metrics import classification_report\n",
    "from sklearn.model_selection import GridSearchCV\n",
    "import joblib\n"
   ]
  },
  {
   "cell_type": "code",
   "execution_count": 2,
   "metadata": {},
   "outputs": [],
   "source": [
    "#load the train dataset\n",
    "df_train = pd.read_csv('data/Train (2).csv')"
   ]
  },
  {
   "cell_type": "code",
   "execution_count": 3,
   "metadata": {},
   "outputs": [],
   "source": [
    "#load the test dataset\n",
    "df_test =  pd.read_csv('data/Test.csv')"
   ]
  },
  {
   "cell_type": "code",
   "execution_count": 4,
   "metadata": {},
   "outputs": [
    {
     "data": {
      "text/html": [
       "<div>\n",
       "<style scoped>\n",
       "    .dataframe tbody tr th:only-of-type {\n",
       "        vertical-align: middle;\n",
       "    }\n",
       "\n",
       "    .dataframe tbody tr th {\n",
       "        vertical-align: top;\n",
       "    }\n",
       "\n",
       "    .dataframe thead th {\n",
       "        text-align: right;\n",
       "    }\n",
       "</style>\n",
       "<table border=\"1\" class=\"dataframe\">\n",
       "  <thead>\n",
       "    <tr style=\"text-align: right;\">\n",
       "      <th></th>\n",
       "      <th>user_id</th>\n",
       "      <th>REGION</th>\n",
       "      <th>TENURE</th>\n",
       "      <th>MONTANT</th>\n",
       "      <th>FREQUENCE_RECH</th>\n",
       "      <th>REVENUE</th>\n",
       "      <th>ARPU_SEGMENT</th>\n",
       "      <th>FREQUENCE</th>\n",
       "      <th>DATA_VOLUME</th>\n",
       "      <th>ON_NET</th>\n",
       "      <th>ORANGE</th>\n",
       "      <th>TIGO</th>\n",
       "      <th>ZONE1</th>\n",
       "      <th>ZONE2</th>\n",
       "      <th>MRG</th>\n",
       "      <th>REGULARITY</th>\n",
       "      <th>TOP_PACK</th>\n",
       "      <th>FREQ_TOP_PACK</th>\n",
       "      <th>CHURN</th>\n",
       "    </tr>\n",
       "  </thead>\n",
       "  <tbody>\n",
       "    <tr>\n",
       "      <th>0</th>\n",
       "      <td>7ee9e11e342e27c70455960acc80d3f91c1286d1</td>\n",
       "      <td>DAKAR</td>\n",
       "      <td>K &gt; 24 month</td>\n",
       "      <td>20000.0</td>\n",
       "      <td>47.0</td>\n",
       "      <td>21602.0</td>\n",
       "      <td>7201.0</td>\n",
       "      <td>52.0</td>\n",
       "      <td>8835.0</td>\n",
       "      <td>3391.0</td>\n",
       "      <td>396.0</td>\n",
       "      <td>185.0</td>\n",
       "      <td>NaN</td>\n",
       "      <td>NaN</td>\n",
       "      <td>NO</td>\n",
       "      <td>62</td>\n",
       "      <td>On net 200F=Unlimited _call24H</td>\n",
       "      <td>30.0</td>\n",
       "      <td>0</td>\n",
       "    </tr>\n",
       "    <tr>\n",
       "      <th>1</th>\n",
       "      <td>50443f42bdc92b10388fc56e520e4421a5fa655c</td>\n",
       "      <td>NaN</td>\n",
       "      <td>K &gt; 24 month</td>\n",
       "      <td>NaN</td>\n",
       "      <td>NaN</td>\n",
       "      <td>NaN</td>\n",
       "      <td>NaN</td>\n",
       "      <td>NaN</td>\n",
       "      <td>NaN</td>\n",
       "      <td>NaN</td>\n",
       "      <td>NaN</td>\n",
       "      <td>NaN</td>\n",
       "      <td>NaN</td>\n",
       "      <td>NaN</td>\n",
       "      <td>NO</td>\n",
       "      <td>3</td>\n",
       "      <td>NaN</td>\n",
       "      <td>NaN</td>\n",
       "      <td>0</td>\n",
       "    </tr>\n",
       "    <tr>\n",
       "      <th>2</th>\n",
       "      <td>da90b5c1a9b204c186079f89969aa01cb03c91b2</td>\n",
       "      <td>NaN</td>\n",
       "      <td>K &gt; 24 month</td>\n",
       "      <td>NaN</td>\n",
       "      <td>NaN</td>\n",
       "      <td>NaN</td>\n",
       "      <td>NaN</td>\n",
       "      <td>NaN</td>\n",
       "      <td>NaN</td>\n",
       "      <td>NaN</td>\n",
       "      <td>NaN</td>\n",
       "      <td>NaN</td>\n",
       "      <td>NaN</td>\n",
       "      <td>NaN</td>\n",
       "      <td>NO</td>\n",
       "      <td>1</td>\n",
       "      <td>NaN</td>\n",
       "      <td>NaN</td>\n",
       "      <td>0</td>\n",
       "    </tr>\n",
       "    <tr>\n",
       "      <th>3</th>\n",
       "      <td>364ec1b424cdc64c25441a444a16930289a0051e</td>\n",
       "      <td>SAINT-LOUIS</td>\n",
       "      <td>K &gt; 24 month</td>\n",
       "      <td>7900.0</td>\n",
       "      <td>19.0</td>\n",
       "      <td>7896.0</td>\n",
       "      <td>2632.0</td>\n",
       "      <td>25.0</td>\n",
       "      <td>9385.0</td>\n",
       "      <td>27.0</td>\n",
       "      <td>46.0</td>\n",
       "      <td>20.0</td>\n",
       "      <td>NaN</td>\n",
       "      <td>2.0</td>\n",
       "      <td>NO</td>\n",
       "      <td>61</td>\n",
       "      <td>Data:490F=1GB,7d</td>\n",
       "      <td>7.0</td>\n",
       "      <td>0</td>\n",
       "    </tr>\n",
       "    <tr>\n",
       "      <th>4</th>\n",
       "      <td>d5a5247005bc6d41d3d99f4ef312ebb5f640f2cb</td>\n",
       "      <td>DAKAR</td>\n",
       "      <td>K &gt; 24 month</td>\n",
       "      <td>12350.0</td>\n",
       "      <td>21.0</td>\n",
       "      <td>12351.0</td>\n",
       "      <td>4117.0</td>\n",
       "      <td>29.0</td>\n",
       "      <td>9360.0</td>\n",
       "      <td>66.0</td>\n",
       "      <td>102.0</td>\n",
       "      <td>34.0</td>\n",
       "      <td>NaN</td>\n",
       "      <td>NaN</td>\n",
       "      <td>NO</td>\n",
       "      <td>56</td>\n",
       "      <td>All-net 500F=2000F;5d</td>\n",
       "      <td>11.0</td>\n",
       "      <td>0</td>\n",
       "    </tr>\n",
       "  </tbody>\n",
       "</table>\n",
       "</div>"
      ],
      "text/plain": [
       "                                    user_id       REGION        TENURE  \\\n",
       "0  7ee9e11e342e27c70455960acc80d3f91c1286d1        DAKAR  K > 24 month   \n",
       "1  50443f42bdc92b10388fc56e520e4421a5fa655c          NaN  K > 24 month   \n",
       "2  da90b5c1a9b204c186079f89969aa01cb03c91b2          NaN  K > 24 month   \n",
       "3  364ec1b424cdc64c25441a444a16930289a0051e  SAINT-LOUIS  K > 24 month   \n",
       "4  d5a5247005bc6d41d3d99f4ef312ebb5f640f2cb        DAKAR  K > 24 month   \n",
       "\n",
       "   MONTANT  FREQUENCE_RECH  REVENUE  ARPU_SEGMENT  FREQUENCE  DATA_VOLUME  \\\n",
       "0  20000.0            47.0  21602.0        7201.0       52.0       8835.0   \n",
       "1      NaN             NaN      NaN           NaN        NaN          NaN   \n",
       "2      NaN             NaN      NaN           NaN        NaN          NaN   \n",
       "3   7900.0            19.0   7896.0        2632.0       25.0       9385.0   \n",
       "4  12350.0            21.0  12351.0        4117.0       29.0       9360.0   \n",
       "\n",
       "   ON_NET  ORANGE   TIGO  ZONE1  ZONE2 MRG  REGULARITY  \\\n",
       "0  3391.0   396.0  185.0    NaN    NaN  NO          62   \n",
       "1     NaN     NaN    NaN    NaN    NaN  NO           3   \n",
       "2     NaN     NaN    NaN    NaN    NaN  NO           1   \n",
       "3    27.0    46.0   20.0    NaN    2.0  NO          61   \n",
       "4    66.0   102.0   34.0    NaN    NaN  NO          56   \n",
       "\n",
       "                         TOP_PACK  FREQ_TOP_PACK  CHURN  \n",
       "0  On net 200F=Unlimited _call24H           30.0      0  \n",
       "1                             NaN            NaN      0  \n",
       "2                             NaN            NaN      0  \n",
       "3                Data:490F=1GB,7d            7.0      0  \n",
       "4           All-net 500F=2000F;5d           11.0      0  "
      ]
     },
     "execution_count": 4,
     "metadata": {},
     "output_type": "execute_result"
    }
   ],
   "source": [
    "#check the head of the train dataset \n",
    "df_train.head(5)"
   ]
  },
  {
   "cell_type": "code",
   "execution_count": 5,
   "metadata": {},
   "outputs": [
    {
     "data": {
      "text/html": [
       "<div>\n",
       "<style scoped>\n",
       "    .dataframe tbody tr th:only-of-type {\n",
       "        vertical-align: middle;\n",
       "    }\n",
       "\n",
       "    .dataframe tbody tr th {\n",
       "        vertical-align: top;\n",
       "    }\n",
       "\n",
       "    .dataframe thead th {\n",
       "        text-align: right;\n",
       "    }\n",
       "</style>\n",
       "<table border=\"1\" class=\"dataframe\">\n",
       "  <thead>\n",
       "    <tr style=\"text-align: right;\">\n",
       "      <th></th>\n",
       "      <th>user_id</th>\n",
       "      <th>REGION</th>\n",
       "      <th>TENURE</th>\n",
       "      <th>MONTANT</th>\n",
       "      <th>FREQUENCE_RECH</th>\n",
       "      <th>REVENUE</th>\n",
       "      <th>ARPU_SEGMENT</th>\n",
       "      <th>FREQUENCE</th>\n",
       "      <th>DATA_VOLUME</th>\n",
       "      <th>ON_NET</th>\n",
       "      <th>ORANGE</th>\n",
       "      <th>TIGO</th>\n",
       "      <th>ZONE1</th>\n",
       "      <th>ZONE2</th>\n",
       "      <th>MRG</th>\n",
       "      <th>REGULARITY</th>\n",
       "      <th>TOP_PACK</th>\n",
       "      <th>FREQ_TOP_PACK</th>\n",
       "    </tr>\n",
       "  </thead>\n",
       "  <tbody>\n",
       "    <tr>\n",
       "      <th>0</th>\n",
       "      <td>51fe4c3347db1f8571d18ac03f716c41acee30a4</td>\n",
       "      <td>MATAM</td>\n",
       "      <td>I 18-21 month</td>\n",
       "      <td>2500.0</td>\n",
       "      <td>5.0</td>\n",
       "      <td>2500.0</td>\n",
       "      <td>833.0</td>\n",
       "      <td>5.0</td>\n",
       "      <td>0.0</td>\n",
       "      <td>64.0</td>\n",
       "      <td>70.0</td>\n",
       "      <td>NaN</td>\n",
       "      <td>NaN</td>\n",
       "      <td>NaN</td>\n",
       "      <td>NO</td>\n",
       "      <td>35</td>\n",
       "      <td>All-net 500F=2000F;5d</td>\n",
       "      <td>5.0</td>\n",
       "    </tr>\n",
       "    <tr>\n",
       "      <th>1</th>\n",
       "      <td>5ad5d67c175bce107cc97b98c4e37dcc38aa7f3e</td>\n",
       "      <td>NaN</td>\n",
       "      <td>K &gt; 24 month</td>\n",
       "      <td>NaN</td>\n",
       "      <td>NaN</td>\n",
       "      <td>NaN</td>\n",
       "      <td>NaN</td>\n",
       "      <td>NaN</td>\n",
       "      <td>NaN</td>\n",
       "      <td>NaN</td>\n",
       "      <td>NaN</td>\n",
       "      <td>NaN</td>\n",
       "      <td>NaN</td>\n",
       "      <td>NaN</td>\n",
       "      <td>NO</td>\n",
       "      <td>2</td>\n",
       "      <td>NaN</td>\n",
       "      <td>NaN</td>\n",
       "    </tr>\n",
       "    <tr>\n",
       "      <th>2</th>\n",
       "      <td>5a4db591c953a8d8f373877fad37aaf4268899a1</td>\n",
       "      <td>NaN</td>\n",
       "      <td>K &gt; 24 month</td>\n",
       "      <td>NaN</td>\n",
       "      <td>NaN</td>\n",
       "      <td>NaN</td>\n",
       "      <td>NaN</td>\n",
       "      <td>NaN</td>\n",
       "      <td>0.0</td>\n",
       "      <td>NaN</td>\n",
       "      <td>NaN</td>\n",
       "      <td>NaN</td>\n",
       "      <td>NaN</td>\n",
       "      <td>NaN</td>\n",
       "      <td>NO</td>\n",
       "      <td>22</td>\n",
       "      <td>NaN</td>\n",
       "      <td>NaN</td>\n",
       "    </tr>\n",
       "    <tr>\n",
       "      <th>3</th>\n",
       "      <td>8bf9b4d8880aeba1c9a0da48be78f12e629be37c</td>\n",
       "      <td>NaN</td>\n",
       "      <td>K &gt; 24 month</td>\n",
       "      <td>NaN</td>\n",
       "      <td>NaN</td>\n",
       "      <td>NaN</td>\n",
       "      <td>NaN</td>\n",
       "      <td>NaN</td>\n",
       "      <td>NaN</td>\n",
       "      <td>NaN</td>\n",
       "      <td>NaN</td>\n",
       "      <td>NaN</td>\n",
       "      <td>NaN</td>\n",
       "      <td>NaN</td>\n",
       "      <td>NO</td>\n",
       "      <td>6</td>\n",
       "      <td>NaN</td>\n",
       "      <td>NaN</td>\n",
       "    </tr>\n",
       "    <tr>\n",
       "      <th>4</th>\n",
       "      <td>c7cdf2af01e9fa95bf498b68c122aa4b9a8d10df</td>\n",
       "      <td>SAINT-LOUIS</td>\n",
       "      <td>K &gt; 24 month</td>\n",
       "      <td>5100.0</td>\n",
       "      <td>7.0</td>\n",
       "      <td>5637.0</td>\n",
       "      <td>1879.0</td>\n",
       "      <td>15.0</td>\n",
       "      <td>7783.0</td>\n",
       "      <td>30.0</td>\n",
       "      <td>24.0</td>\n",
       "      <td>0.0</td>\n",
       "      <td>0.0</td>\n",
       "      <td>NaN</td>\n",
       "      <td>NO</td>\n",
       "      <td>60</td>\n",
       "      <td>Data:1000F=2GB,30d</td>\n",
       "      <td>4.0</td>\n",
       "    </tr>\n",
       "  </tbody>\n",
       "</table>\n",
       "</div>"
      ],
      "text/plain": [
       "                                    user_id       REGION         TENURE  \\\n",
       "0  51fe4c3347db1f8571d18ac03f716c41acee30a4        MATAM  I 18-21 month   \n",
       "1  5ad5d67c175bce107cc97b98c4e37dcc38aa7f3e          NaN   K > 24 month   \n",
       "2  5a4db591c953a8d8f373877fad37aaf4268899a1          NaN   K > 24 month   \n",
       "3  8bf9b4d8880aeba1c9a0da48be78f12e629be37c          NaN   K > 24 month   \n",
       "4  c7cdf2af01e9fa95bf498b68c122aa4b9a8d10df  SAINT-LOUIS   K > 24 month   \n",
       "\n",
       "   MONTANT  FREQUENCE_RECH  REVENUE  ARPU_SEGMENT  FREQUENCE  DATA_VOLUME  \\\n",
       "0   2500.0             5.0   2500.0         833.0        5.0          0.0   \n",
       "1      NaN             NaN      NaN           NaN        NaN          NaN   \n",
       "2      NaN             NaN      NaN           NaN        NaN          0.0   \n",
       "3      NaN             NaN      NaN           NaN        NaN          NaN   \n",
       "4   5100.0             7.0   5637.0        1879.0       15.0       7783.0   \n",
       "\n",
       "   ON_NET  ORANGE  TIGO  ZONE1  ZONE2 MRG  REGULARITY               TOP_PACK  \\\n",
       "0    64.0    70.0   NaN    NaN    NaN  NO          35  All-net 500F=2000F;5d   \n",
       "1     NaN     NaN   NaN    NaN    NaN  NO           2                    NaN   \n",
       "2     NaN     NaN   NaN    NaN    NaN  NO          22                    NaN   \n",
       "3     NaN     NaN   NaN    NaN    NaN  NO           6                    NaN   \n",
       "4    30.0    24.0   0.0    0.0    NaN  NO          60     Data:1000F=2GB,30d   \n",
       "\n",
       "   FREQ_TOP_PACK  \n",
       "0            5.0  \n",
       "1            NaN  \n",
       "2            NaN  \n",
       "3            NaN  \n",
       "4            4.0  "
      ]
     },
     "execution_count": 5,
     "metadata": {},
     "output_type": "execute_result"
    }
   ],
   "source": [
    "#check the head of the test dataset \n",
    "df_test.head(5)"
   ]
  },
  {
   "cell_type": "code",
   "execution_count": 6,
   "metadata": {},
   "outputs": [
    {
     "name": "stdout",
     "output_type": "stream",
     "text": [
      "<class 'pandas.core.frame.DataFrame'>\n",
      "RangeIndex: 1077024 entries, 0 to 1077023\n",
      "Data columns (total 19 columns):\n",
      " #   Column          Non-Null Count    Dtype  \n",
      "---  ------          --------------    -----  \n",
      " 0   user_id         1077024 non-null  object \n",
      " 1   REGION          652687 non-null   object \n",
      " 2   TENURE          1077024 non-null  object \n",
      " 3   MONTANT         699139 non-null   float64\n",
      " 4   FREQUENCE_RECH  699139 non-null   float64\n",
      " 5   REVENUE         714669 non-null   float64\n",
      " 6   ARPU_SEGMENT    714669 non-null   float64\n",
      " 7   FREQUENCE       714669 non-null   float64\n",
      " 8   DATA_VOLUME     547261 non-null   float64\n",
      " 9   ON_NET          683850 non-null   float64\n",
      " 10  ORANGE          629880 non-null   float64\n",
      " 11  TIGO            432250 non-null   float64\n",
      " 12  ZONE1           84898 non-null    float64\n",
      " 13  ZONE2           68794 non-null    float64\n",
      " 14  MRG             1077024 non-null  object \n",
      " 15  REGULARITY      1077024 non-null  int64  \n",
      " 16  TOP_PACK        626129 non-null   object \n",
      " 17  FREQ_TOP_PACK   626129 non-null   float64\n",
      " 18  CHURN           1077024 non-null  int64  \n",
      "dtypes: float64(12), int64(2), object(5)\n",
      "memory usage: 156.1+ MB\n"
     ]
    }
   ],
   "source": [
    "#check the info of the train dataset\n",
    "df_train.info()"
   ]
  },
  {
   "cell_type": "code",
   "execution_count": 7,
   "metadata": {},
   "outputs": [
    {
     "name": "stdout",
     "output_type": "stream",
     "text": [
      "<class 'pandas.core.frame.DataFrame'>\n",
      "RangeIndex: 190063 entries, 0 to 190062\n",
      "Data columns (total 18 columns):\n",
      " #   Column          Non-Null Count   Dtype  \n",
      "---  ------          --------------   -----  \n",
      " 0   user_id         190063 non-null  object \n",
      " 1   REGION          115330 non-null  object \n",
      " 2   TENURE          190063 non-null  object \n",
      " 3   MONTANT         123695 non-null  float64\n",
      " 4   FREQUENCE_RECH  123695 non-null  float64\n",
      " 5   REVENUE         126422 non-null  float64\n",
      " 6   ARPU_SEGMENT    126422 non-null  float64\n",
      " 7   FREQUENCE       126422 non-null  float64\n",
      " 8   DATA_VOLUME     96716 non-null   float64\n",
      " 9   ON_NET          120771 non-null  float64\n",
      " 10  ORANGE          111417 non-null  float64\n",
      " 11  TIGO            76555 non-null   float64\n",
      " 12  ZONE1           14850 non-null   float64\n",
      " 13  ZONE2           12011 non-null   float64\n",
      " 14  MRG             190063 non-null  object \n",
      " 15  REGULARITY      190063 non-null  int64  \n",
      " 16  TOP_PACK        110773 non-null  object \n",
      " 17  FREQ_TOP_PACK   110773 non-null  float64\n",
      "dtypes: float64(12), int64(1), object(5)\n",
      "memory usage: 26.1+ MB\n"
     ]
    }
   ],
   "source": [
    "#check the info of the test dataset\n",
    "df_test.info()"
   ]
  },
  {
   "cell_type": "code",
   "execution_count": 8,
   "metadata": {},
   "outputs": [
    {
     "data": {
      "text/plain": [
       "user_id                 0\n",
       "REGION             424337\n",
       "TENURE                  0\n",
       "MONTANT            377885\n",
       "FREQUENCE_RECH     377885\n",
       "REVENUE            362355\n",
       "ARPU_SEGMENT       362355\n",
       "FREQUENCE          362355\n",
       "DATA_VOLUME        529763\n",
       "ON_NET             393174\n",
       "ORANGE             447144\n",
       "TIGO               644774\n",
       "ZONE1              992126\n",
       "ZONE2             1008230\n",
       "MRG                     0\n",
       "REGULARITY              0\n",
       "TOP_PACK           450895\n",
       "FREQ_TOP_PACK      450895\n",
       "CHURN                   0\n",
       "dtype: int64"
      ]
     },
     "execution_count": 8,
     "metadata": {},
     "output_type": "execute_result"
    }
   ],
   "source": [
    "# checking for null values on the train dataset\n",
    "df_train.isnull().sum()"
   ]
  },
  {
   "cell_type": "code",
   "execution_count": 9,
   "metadata": {},
   "outputs": [
    {
     "data": {
      "text/plain": [
       "user_id                0\n",
       "REGION             74733\n",
       "TENURE                 0\n",
       "MONTANT            66368\n",
       "FREQUENCE_RECH     66368\n",
       "REVENUE            63641\n",
       "ARPU_SEGMENT       63641\n",
       "FREQUENCE          63641\n",
       "DATA_VOLUME        93347\n",
       "ON_NET             69292\n",
       "ORANGE             78646\n",
       "TIGO              113508\n",
       "ZONE1             175213\n",
       "ZONE2             178052\n",
       "MRG                    0\n",
       "REGULARITY             0\n",
       "TOP_PACK           79290\n",
       "FREQ_TOP_PACK      79290\n",
       "dtype: int64"
      ]
     },
     "execution_count": 9,
     "metadata": {},
     "output_type": "execute_result"
    }
   ],
   "source": [
    "#checking for the null value on the test dataset\n",
    "df_test.isnull().sum()"
   ]
  },
  {
   "cell_type": "code",
   "execution_count": 10,
   "metadata": {},
   "outputs": [
    {
     "data": {
      "text/plain": [
       "(1077024, 19)"
      ]
     },
     "execution_count": 10,
     "metadata": {},
     "output_type": "execute_result"
    }
   ],
   "source": [
    "#checking the shape of the train dataset \n",
    "df_train.shape"
   ]
  },
  {
   "cell_type": "code",
   "execution_count": 11,
   "metadata": {},
   "outputs": [
    {
     "data": {
      "text/plain": [
       "(190063, 18)"
      ]
     },
     "execution_count": 11,
     "metadata": {},
     "output_type": "execute_result"
    }
   ],
   "source": [
    "#checking the shape of the test data\n",
    "df_test.shape"
   ]
  },
  {
   "cell_type": "code",
   "execution_count": 12,
   "metadata": {},
   "outputs": [
    {
     "data": {
      "text/plain": [
       "0"
      ]
     },
     "execution_count": 12,
     "metadata": {},
     "output_type": "execute_result"
    }
   ],
   "source": [
    "#checking for dublicate on the train \n",
    "df_train.duplicated().sum()\n"
   ]
  },
  {
   "cell_type": "code",
   "execution_count": 13,
   "metadata": {},
   "outputs": [
    {
     "data": {
      "text/plain": [
       "0"
      ]
     },
     "execution_count": 13,
     "metadata": {},
     "output_type": "execute_result"
    }
   ],
   "source": [
    "# checking for dublicate on the test \n",
    "df_test.duplicated().sum()"
   ]
  },
  {
   "cell_type": "code",
   "execution_count": 14,
   "metadata": {},
   "outputs": [
    {
     "data": {
      "text/html": [
       "<div>\n",
       "<style scoped>\n",
       "    .dataframe tbody tr th:only-of-type {\n",
       "        vertical-align: middle;\n",
       "    }\n",
       "\n",
       "    .dataframe tbody tr th {\n",
       "        vertical-align: top;\n",
       "    }\n",
       "\n",
       "    .dataframe thead th {\n",
       "        text-align: right;\n",
       "    }\n",
       "</style>\n",
       "<table border=\"1\" class=\"dataframe\">\n",
       "  <thead>\n",
       "    <tr style=\"text-align: right;\">\n",
       "      <th></th>\n",
       "      <th>count</th>\n",
       "      <th>mean</th>\n",
       "      <th>std</th>\n",
       "      <th>min</th>\n",
       "      <th>25%</th>\n",
       "      <th>50%</th>\n",
       "      <th>75%</th>\n",
       "      <th>max</th>\n",
       "    </tr>\n",
       "  </thead>\n",
       "  <tbody>\n",
       "    <tr>\n",
       "      <th>MONTANT</th>\n",
       "      <td>699139.0</td>\n",
       "      <td>5529.210895</td>\n",
       "      <td>7104.737952</td>\n",
       "      <td>20.0</td>\n",
       "      <td>1000.0</td>\n",
       "      <td>3000.0</td>\n",
       "      <td>7350.0</td>\n",
       "      <td>470000.0</td>\n",
       "    </tr>\n",
       "    <tr>\n",
       "      <th>FREQUENCE_RECH</th>\n",
       "      <td>699139.0</td>\n",
       "      <td>11.523756</td>\n",
       "      <td>13.261938</td>\n",
       "      <td>1.0</td>\n",
       "      <td>2.0</td>\n",
       "      <td>7.0</td>\n",
       "      <td>16.0</td>\n",
       "      <td>131.0</td>\n",
       "    </tr>\n",
       "    <tr>\n",
       "      <th>REVENUE</th>\n",
       "      <td>714669.0</td>\n",
       "      <td>5506.050798</td>\n",
       "      <td>7175.625010</td>\n",
       "      <td>1.0</td>\n",
       "      <td>1000.0</td>\n",
       "      <td>3000.0</td>\n",
       "      <td>7360.0</td>\n",
       "      <td>532177.0</td>\n",
       "    </tr>\n",
       "    <tr>\n",
       "      <th>ARPU_SEGMENT</th>\n",
       "      <td>714669.0</td>\n",
       "      <td>1835.355961</td>\n",
       "      <td>2391.870902</td>\n",
       "      <td>0.0</td>\n",
       "      <td>333.0</td>\n",
       "      <td>1000.0</td>\n",
       "      <td>2453.0</td>\n",
       "      <td>177392.0</td>\n",
       "    </tr>\n",
       "    <tr>\n",
       "      <th>FREQUENCE</th>\n",
       "      <td>714669.0</td>\n",
       "      <td>13.974439</td>\n",
       "      <td>14.687059</td>\n",
       "      <td>1.0</td>\n",
       "      <td>3.0</td>\n",
       "      <td>9.0</td>\n",
       "      <td>20.0</td>\n",
       "      <td>91.0</td>\n",
       "    </tr>\n",
       "    <tr>\n",
       "      <th>DATA_VOLUME</th>\n",
       "      <td>547261.0</td>\n",
       "      <td>3368.801722</td>\n",
       "      <td>12898.928039</td>\n",
       "      <td>0.0</td>\n",
       "      <td>0.0</td>\n",
       "      <td>258.0</td>\n",
       "      <td>2905.0</td>\n",
       "      <td>1702309.0</td>\n",
       "    </tr>\n",
       "    <tr>\n",
       "      <th>ON_NET</th>\n",
       "      <td>683850.0</td>\n",
       "      <td>277.065798</td>\n",
       "      <td>874.315378</td>\n",
       "      <td>0.0</td>\n",
       "      <td>5.0</td>\n",
       "      <td>27.0</td>\n",
       "      <td>156.0</td>\n",
       "      <td>50809.0</td>\n",
       "    </tr>\n",
       "    <tr>\n",
       "      <th>ORANGE</th>\n",
       "      <td>629880.0</td>\n",
       "      <td>95.160804</td>\n",
       "      <td>203.020261</td>\n",
       "      <td>0.0</td>\n",
       "      <td>7.0</td>\n",
       "      <td>29.0</td>\n",
       "      <td>99.0</td>\n",
       "      <td>12040.0</td>\n",
       "    </tr>\n",
       "    <tr>\n",
       "      <th>TIGO</th>\n",
       "      <td>432250.0</td>\n",
       "      <td>23.105018</td>\n",
       "      <td>64.035464</td>\n",
       "      <td>0.0</td>\n",
       "      <td>2.0</td>\n",
       "      <td>6.0</td>\n",
       "      <td>20.0</td>\n",
       "      <td>4174.0</td>\n",
       "    </tr>\n",
       "    <tr>\n",
       "      <th>ZONE1</th>\n",
       "      <td>84898.0</td>\n",
       "      <td>8.167483</td>\n",
       "      <td>39.245883</td>\n",
       "      <td>0.0</td>\n",
       "      <td>0.0</td>\n",
       "      <td>1.0</td>\n",
       "      <td>3.0</td>\n",
       "      <td>2507.0</td>\n",
       "    </tr>\n",
       "    <tr>\n",
       "      <th>ZONE2</th>\n",
       "      <td>68794.0</td>\n",
       "      <td>7.709844</td>\n",
       "      <td>36.090513</td>\n",
       "      <td>0.0</td>\n",
       "      <td>0.0</td>\n",
       "      <td>2.0</td>\n",
       "      <td>5.0</td>\n",
       "      <td>3697.0</td>\n",
       "    </tr>\n",
       "    <tr>\n",
       "      <th>REGULARITY</th>\n",
       "      <td>1077024.0</td>\n",
       "      <td>28.044496</td>\n",
       "      <td>22.288610</td>\n",
       "      <td>1.0</td>\n",
       "      <td>6.0</td>\n",
       "      <td>24.0</td>\n",
       "      <td>51.0</td>\n",
       "      <td>62.0</td>\n",
       "    </tr>\n",
       "    <tr>\n",
       "      <th>FREQ_TOP_PACK</th>\n",
       "      <td>626129.0</td>\n",
       "      <td>9.262446</td>\n",
       "      <td>12.242316</td>\n",
       "      <td>1.0</td>\n",
       "      <td>2.0</td>\n",
       "      <td>5.0</td>\n",
       "      <td>12.0</td>\n",
       "      <td>624.0</td>\n",
       "    </tr>\n",
       "    <tr>\n",
       "      <th>CHURN</th>\n",
       "      <td>1077024.0</td>\n",
       "      <td>0.187547</td>\n",
       "      <td>0.390350</td>\n",
       "      <td>0.0</td>\n",
       "      <td>0.0</td>\n",
       "      <td>0.0</td>\n",
       "      <td>0.0</td>\n",
       "      <td>1.0</td>\n",
       "    </tr>\n",
       "  </tbody>\n",
       "</table>\n",
       "</div>"
      ],
      "text/plain": [
       "                    count         mean           std   min     25%     50%  \\\n",
       "MONTANT          699139.0  5529.210895   7104.737952  20.0  1000.0  3000.0   \n",
       "FREQUENCE_RECH   699139.0    11.523756     13.261938   1.0     2.0     7.0   \n",
       "REVENUE          714669.0  5506.050798   7175.625010   1.0  1000.0  3000.0   \n",
       "ARPU_SEGMENT     714669.0  1835.355961   2391.870902   0.0   333.0  1000.0   \n",
       "FREQUENCE        714669.0    13.974439     14.687059   1.0     3.0     9.0   \n",
       "DATA_VOLUME      547261.0  3368.801722  12898.928039   0.0     0.0   258.0   \n",
       "ON_NET           683850.0   277.065798    874.315378   0.0     5.0    27.0   \n",
       "ORANGE           629880.0    95.160804    203.020261   0.0     7.0    29.0   \n",
       "TIGO             432250.0    23.105018     64.035464   0.0     2.0     6.0   \n",
       "ZONE1             84898.0     8.167483     39.245883   0.0     0.0     1.0   \n",
       "ZONE2             68794.0     7.709844     36.090513   0.0     0.0     2.0   \n",
       "REGULARITY      1077024.0    28.044496     22.288610   1.0     6.0    24.0   \n",
       "FREQ_TOP_PACK    626129.0     9.262446     12.242316   1.0     2.0     5.0   \n",
       "CHURN           1077024.0     0.187547      0.390350   0.0     0.0     0.0   \n",
       "\n",
       "                   75%        max  \n",
       "MONTANT         7350.0   470000.0  \n",
       "FREQUENCE_RECH    16.0      131.0  \n",
       "REVENUE         7360.0   532177.0  \n",
       "ARPU_SEGMENT    2453.0   177392.0  \n",
       "FREQUENCE         20.0       91.0  \n",
       "DATA_VOLUME     2905.0  1702309.0  \n",
       "ON_NET           156.0    50809.0  \n",
       "ORANGE            99.0    12040.0  \n",
       "TIGO              20.0     4174.0  \n",
       "ZONE1              3.0     2507.0  \n",
       "ZONE2              5.0     3697.0  \n",
       "REGULARITY        51.0       62.0  \n",
       "FREQ_TOP_PACK     12.0      624.0  \n",
       "CHURN              0.0        1.0  "
      ]
     },
     "execution_count": 14,
     "metadata": {},
     "output_type": "execute_result"
    }
   ],
   "source": [
    "#  cheking the stasitical on the train \n",
    "df_train.describe().T"
   ]
  },
  {
   "cell_type": "code",
   "execution_count": 15,
   "metadata": {},
   "outputs": [
    {
     "data": {
      "text/plain": [
       "user_id            0.00\n",
       "REGION            39.40\n",
       "TENURE             0.00\n",
       "MONTANT           35.09\n",
       "FREQUENCE_RECH    35.09\n",
       "REVENUE           33.64\n",
       "ARPU_SEGMENT      33.64\n",
       "FREQUENCE         33.64\n",
       "DATA_VOLUME       49.19\n",
       "ON_NET            36.51\n",
       "ORANGE            41.52\n",
       "TIGO              59.87\n",
       "ZONE1             92.12\n",
       "ZONE2             93.61\n",
       "MRG                0.00\n",
       "REGULARITY         0.00\n",
       "TOP_PACK          41.86\n",
       "FREQ_TOP_PACK     41.86\n",
       "CHURN              0.00\n",
       "dtype: float64"
      ]
     },
     "execution_count": 15,
     "metadata": {},
     "output_type": "execute_result"
    }
   ],
   "source": [
    "#  What is the percentage of missing values in train columns\n",
    "percent_missing_values =( (df_train.isna().sum()/len(df_train)) * 100)\n",
    "\n",
    "percent_missing_values.round(2)"
   ]
  },
  {
   "cell_type": "code",
   "execution_count": 16,
   "metadata": {},
   "outputs": [
    {
     "data": {
      "text/plain": [
       "user_id            0.00\n",
       "REGION            39.32\n",
       "TENURE             0.00\n",
       "MONTANT           34.92\n",
       "FREQUENCE_RECH    34.92\n",
       "REVENUE           33.48\n",
       "ARPU_SEGMENT      33.48\n",
       "FREQUENCE         33.48\n",
       "DATA_VOLUME       49.11\n",
       "ON_NET            36.46\n",
       "ORANGE            41.38\n",
       "TIGO              59.72\n",
       "ZONE1             92.19\n",
       "ZONE2             93.68\n",
       "MRG                0.00\n",
       "REGULARITY         0.00\n",
       "TOP_PACK          41.72\n",
       "FREQ_TOP_PACK     41.72\n",
       "dtype: float64"
      ]
     },
     "execution_count": 16,
     "metadata": {},
     "output_type": "execute_result"
    }
   ],
   "source": [
    "#  What is the percentage of missing values in train columns\n",
    "percent_missing_values =( (df_test.isna().sum()/len(df_test)) * 100)\n",
    "\n",
    "percent_missing_values.round(2)"
   ]
  },
  {
   "cell_type": "markdown",
   "metadata": {},
   "source": [
    "#### cleaning the dataset by filling in the missing values"
   ]
  },
  {
   "cell_type": "code",
   "execution_count": 17,
   "metadata": {},
   "outputs": [],
   "source": [
    "# Fill missing values for each numeric column with its mean of the train dataset\n",
    "numeric_columns = df_train.select_dtypes(include='number').columns\n",
    "for column in numeric_columns:\n",
    "    df_train[column].fillna(df_train[column].mean(), inplace=True)\n"
   ]
  },
  {
   "cell_type": "code",
   "execution_count": 18,
   "metadata": {},
   "outputs": [],
   "source": [
    "# for mode imputation\n",
    "df_train['REGION'].fillna(df_train['REGION'].mode()[0], inplace=True)\n"
   ]
  },
  {
   "cell_type": "code",
   "execution_count": 19,
   "metadata": {},
   "outputs": [],
   "source": [
    "# Example for filling with a constant (e.g., 'Unknown')\n",
    "df_train['TOP_PACK'].fillna('Unknown', inplace=True)\n"
   ]
  },
  {
   "cell_type": "code",
   "execution_count": 20,
   "metadata": {},
   "outputs": [
    {
     "data": {
      "text/plain": [
       "user_id           0\n",
       "REGION            0\n",
       "TENURE            0\n",
       "MONTANT           0\n",
       "FREQUENCE_RECH    0\n",
       "REVENUE           0\n",
       "ARPU_SEGMENT      0\n",
       "FREQUENCE         0\n",
       "DATA_VOLUME       0\n",
       "ON_NET            0\n",
       "ORANGE            0\n",
       "TIGO              0\n",
       "ZONE1             0\n",
       "ZONE2             0\n",
       "MRG               0\n",
       "REGULARITY        0\n",
       "TOP_PACK          0\n",
       "FREQ_TOP_PACK     0\n",
       "CHURN             0\n",
       "dtype: int64"
      ]
     },
     "execution_count": 20,
     "metadata": {},
     "output_type": "execute_result"
    }
   ],
   "source": [
    "df_train.isnull().sum()"
   ]
  },
  {
   "cell_type": "code",
   "execution_count": 21,
   "metadata": {},
   "outputs": [],
   "source": [
    "# Fill missing values for each numeric column with its mean of the test dataset\n",
    "numeric_columns = df_test.select_dtypes(include='number').columns\n",
    "for column in numeric_columns:\n",
    "    df_test[column].fillna(df_test[column].mean(), inplace=True)\n"
   ]
  },
  {
   "cell_type": "code",
   "execution_count": 22,
   "metadata": {},
   "outputs": [],
   "source": [
    "# for mode imputation\n",
    "df_test['REGION'].fillna(df_test['REGION'].mode()[0], inplace=True)"
   ]
  },
  {
   "cell_type": "code",
   "execution_count": 23,
   "metadata": {},
   "outputs": [],
   "source": [
    "# Example for filling with a constant (e.g., 'Unknown')\n",
    "df_test['TOP_PACK'].fillna('Unknown', inplace=True)"
   ]
  },
  {
   "cell_type": "code",
   "execution_count": 24,
   "metadata": {},
   "outputs": [
    {
     "data": {
      "text/plain": [
       "user_id           0\n",
       "REGION            0\n",
       "TENURE            0\n",
       "MONTANT           0\n",
       "FREQUENCE_RECH    0\n",
       "REVENUE           0\n",
       "ARPU_SEGMENT      0\n",
       "FREQUENCE         0\n",
       "DATA_VOLUME       0\n",
       "ON_NET            0\n",
       "ORANGE            0\n",
       "TIGO              0\n",
       "ZONE1             0\n",
       "ZONE2             0\n",
       "MRG               0\n",
       "REGULARITY        0\n",
       "TOP_PACK          0\n",
       "FREQ_TOP_PACK     0\n",
       "dtype: int64"
      ]
     },
     "execution_count": 24,
     "metadata": {},
     "output_type": "execute_result"
    }
   ],
   "source": [
    "df_test.isnull().sum()"
   ]
  },
  {
   "cell_type": "markdown",
   "metadata": {},
   "source": [
    "#### EDA"
   ]
  },
  {
   "cell_type": "markdown",
   "metadata": {},
   "source": [
    "#### univariate"
   ]
  },
  {
   "cell_type": "markdown",
   "metadata": {},
   "source": [
    "#### Bivariate analysis "
   ]
  },
  {
   "cell_type": "markdown",
   "metadata": {},
   "source": [
    "#### Multivariate"
   ]
  },
  {
   "cell_type": "markdown",
   "metadata": {},
   "source": [
    "## Data Preparation "
   ]
  },
  {
   "cell_type": "markdown",
   "metadata": {},
   "source": [
    "#### Data preprocessing"
   ]
  },
  {
   "cell_type": "code",
   "execution_count": 25,
   "metadata": {},
   "outputs": [],
   "source": [
    "#We will drop REGION, TOP_PACK, and MRG. They have less contribution in prediction of the target.\n",
    "#We will also replace the missing values for the numerical columns with their means (averages)\n",
    "\n",
    "df_train.drop(columns=['REGION', 'MRG', 'TOP_PACK', 'ZONE1', 'ZONE2','user_id'], inplace=True) #drop these columns"
   ]
  },
  {
   "cell_type": "code",
   "execution_count": 26,
   "metadata": {},
   "outputs": [
    {
     "data": {
      "text/plain": [
       "Index(['TENURE', 'MONTANT', 'FREQUENCE_RECH', 'REVENUE', 'ARPU_SEGMENT',\n",
       "       'FREQUENCE', 'DATA_VOLUME', 'ON_NET', 'ORANGE', 'TIGO', 'REGULARITY',\n",
       "       'FREQ_TOP_PACK', 'CHURN'],\n",
       "      dtype='object')"
      ]
     },
     "execution_count": 26,
     "metadata": {},
     "output_type": "execute_result"
    }
   ],
   "source": [
    "df_train.columns"
   ]
  },
  {
   "cell_type": "code",
   "execution_count": 27,
   "metadata": {},
   "outputs": [],
   "source": [
    "df_test.drop(columns=['REGION', 'MRG', 'TOP_PACK', 'ZONE1', 'ZONE2','user_id'], inplace=True)"
   ]
  },
  {
   "cell_type": "code",
   "execution_count": 28,
   "metadata": {},
   "outputs": [
    {
     "data": {
      "text/plain": [
       "Index(['TENURE', 'MONTANT', 'FREQUENCE_RECH', 'REVENUE', 'ARPU_SEGMENT',\n",
       "       'FREQUENCE', 'DATA_VOLUME', 'ON_NET', 'ORANGE', 'TIGO', 'REGULARITY',\n",
       "       'FREQ_TOP_PACK'],\n",
       "      dtype='object')"
      ]
     },
     "execution_count": 28,
     "metadata": {},
     "output_type": "execute_result"
    }
   ],
   "source": [
    "df_test.columns"
   ]
  },
  {
   "cell_type": "code",
   "execution_count": 29,
   "metadata": {},
   "outputs": [
    {
     "data": {
      "text/plain": [
       "(((861619, 12), (861619,)), ((215405, 12), (215405,)), (190063, 12))"
      ]
     },
     "execution_count": 29,
     "metadata": {},
     "output_type": "execute_result"
    }
   ],
   "source": [
    "# lets separate the dependent and independent/target variable\n",
    "X = df_train.drop(['CHURN'], axis=1)\n",
    "y = df_train['CHURN']\n",
    "\n",
    "X_train, X_eval, y_train, y_eval = train_test_split(X, y, test_size=0.2, random_state=42)\n",
    "(X_train.shape, y_train.shape),(X_eval.shape, y_eval.shape),(df_test.shape)"
   ]
  },
  {
   "cell_type": "code",
   "execution_count": 30,
   "metadata": {},
   "outputs": [
    {
     "data": {
      "text/html": [
       "<div>\n",
       "<style scoped>\n",
       "    .dataframe tbody tr th:only-of-type {\n",
       "        vertical-align: middle;\n",
       "    }\n",
       "\n",
       "    .dataframe tbody tr th {\n",
       "        vertical-align: top;\n",
       "    }\n",
       "\n",
       "    .dataframe thead th {\n",
       "        text-align: right;\n",
       "    }\n",
       "</style>\n",
       "<table border=\"1\" class=\"dataframe\">\n",
       "  <thead>\n",
       "    <tr style=\"text-align: right;\">\n",
       "      <th></th>\n",
       "      <th>TENURE</th>\n",
       "      <th>MONTANT</th>\n",
       "      <th>FREQUENCE_RECH</th>\n",
       "      <th>REVENUE</th>\n",
       "      <th>ARPU_SEGMENT</th>\n",
       "      <th>FREQUENCE</th>\n",
       "      <th>DATA_VOLUME</th>\n",
       "      <th>ON_NET</th>\n",
       "      <th>ORANGE</th>\n",
       "      <th>TIGO</th>\n",
       "      <th>REGULARITY</th>\n",
       "      <th>FREQ_TOP_PACK</th>\n",
       "    </tr>\n",
       "  </thead>\n",
       "  <tbody>\n",
       "    <tr>\n",
       "      <th>0</th>\n",
       "      <td>K &gt; 24 month</td>\n",
       "      <td>20000.000000</td>\n",
       "      <td>47.000000</td>\n",
       "      <td>21602.000000</td>\n",
       "      <td>7201.000000</td>\n",
       "      <td>52.000000</td>\n",
       "      <td>8835.000000</td>\n",
       "      <td>3391.000000</td>\n",
       "      <td>396.000000</td>\n",
       "      <td>185.000000</td>\n",
       "      <td>62</td>\n",
       "      <td>30.000000</td>\n",
       "    </tr>\n",
       "    <tr>\n",
       "      <th>1</th>\n",
       "      <td>K &gt; 24 month</td>\n",
       "      <td>5529.210895</td>\n",
       "      <td>11.523756</td>\n",
       "      <td>5506.050798</td>\n",
       "      <td>1835.355961</td>\n",
       "      <td>13.974439</td>\n",
       "      <td>3368.801722</td>\n",
       "      <td>277.065798</td>\n",
       "      <td>95.160804</td>\n",
       "      <td>23.105018</td>\n",
       "      <td>3</td>\n",
       "      <td>9.262446</td>\n",
       "    </tr>\n",
       "    <tr>\n",
       "      <th>2</th>\n",
       "      <td>K &gt; 24 month</td>\n",
       "      <td>5529.210895</td>\n",
       "      <td>11.523756</td>\n",
       "      <td>5506.050798</td>\n",
       "      <td>1835.355961</td>\n",
       "      <td>13.974439</td>\n",
       "      <td>3368.801722</td>\n",
       "      <td>277.065798</td>\n",
       "      <td>95.160804</td>\n",
       "      <td>23.105018</td>\n",
       "      <td>1</td>\n",
       "      <td>9.262446</td>\n",
       "    </tr>\n",
       "    <tr>\n",
       "      <th>3</th>\n",
       "      <td>K &gt; 24 month</td>\n",
       "      <td>7900.000000</td>\n",
       "      <td>19.000000</td>\n",
       "      <td>7896.000000</td>\n",
       "      <td>2632.000000</td>\n",
       "      <td>25.000000</td>\n",
       "      <td>9385.000000</td>\n",
       "      <td>27.000000</td>\n",
       "      <td>46.000000</td>\n",
       "      <td>20.000000</td>\n",
       "      <td>61</td>\n",
       "      <td>7.000000</td>\n",
       "    </tr>\n",
       "    <tr>\n",
       "      <th>4</th>\n",
       "      <td>K &gt; 24 month</td>\n",
       "      <td>12350.000000</td>\n",
       "      <td>21.000000</td>\n",
       "      <td>12351.000000</td>\n",
       "      <td>4117.000000</td>\n",
       "      <td>29.000000</td>\n",
       "      <td>9360.000000</td>\n",
       "      <td>66.000000</td>\n",
       "      <td>102.000000</td>\n",
       "      <td>34.000000</td>\n",
       "      <td>56</td>\n",
       "      <td>11.000000</td>\n",
       "    </tr>\n",
       "    <tr>\n",
       "      <th>...</th>\n",
       "      <td>...</td>\n",
       "      <td>...</td>\n",
       "      <td>...</td>\n",
       "      <td>...</td>\n",
       "      <td>...</td>\n",
       "      <td>...</td>\n",
       "      <td>...</td>\n",
       "      <td>...</td>\n",
       "      <td>...</td>\n",
       "      <td>...</td>\n",
       "      <td>...</td>\n",
       "      <td>...</td>\n",
       "    </tr>\n",
       "    <tr>\n",
       "      <th>1077019</th>\n",
       "      <td>K &gt; 24 month</td>\n",
       "      <td>5529.210895</td>\n",
       "      <td>11.523756</td>\n",
       "      <td>5506.050798</td>\n",
       "      <td>1835.355961</td>\n",
       "      <td>13.974439</td>\n",
       "      <td>3368.801722</td>\n",
       "      <td>277.065798</td>\n",
       "      <td>95.160804</td>\n",
       "      <td>23.105018</td>\n",
       "      <td>16</td>\n",
       "      <td>9.262446</td>\n",
       "    </tr>\n",
       "    <tr>\n",
       "      <th>1077020</th>\n",
       "      <td>K &gt; 24 month</td>\n",
       "      <td>2500.000000</td>\n",
       "      <td>5.000000</td>\n",
       "      <td>2500.000000</td>\n",
       "      <td>833.000000</td>\n",
       "      <td>5.000000</td>\n",
       "      <td>0.000000</td>\n",
       "      <td>15.000000</td>\n",
       "      <td>77.000000</td>\n",
       "      <td>23.105018</td>\n",
       "      <td>34</td>\n",
       "      <td>2.000000</td>\n",
       "    </tr>\n",
       "    <tr>\n",
       "      <th>1077021</th>\n",
       "      <td>K &gt; 24 month</td>\n",
       "      <td>5529.210895</td>\n",
       "      <td>11.523756</td>\n",
       "      <td>5506.050798</td>\n",
       "      <td>1835.355961</td>\n",
       "      <td>13.974439</td>\n",
       "      <td>3368.801722</td>\n",
       "      <td>277.065798</td>\n",
       "      <td>95.160804</td>\n",
       "      <td>23.105018</td>\n",
       "      <td>3</td>\n",
       "      <td>9.262446</td>\n",
       "    </tr>\n",
       "    <tr>\n",
       "      <th>1077022</th>\n",
       "      <td>K &gt; 24 month</td>\n",
       "      <td>600.000000</td>\n",
       "      <td>1.000000</td>\n",
       "      <td>600.000000</td>\n",
       "      <td>200.000000</td>\n",
       "      <td>1.000000</td>\n",
       "      <td>591.000000</td>\n",
       "      <td>11.000000</td>\n",
       "      <td>37.000000</td>\n",
       "      <td>5.000000</td>\n",
       "      <td>16</td>\n",
       "      <td>1.000000</td>\n",
       "    </tr>\n",
       "    <tr>\n",
       "      <th>1077023</th>\n",
       "      <td>K &gt; 24 month</td>\n",
       "      <td>1500.000000</td>\n",
       "      <td>4.000000</td>\n",
       "      <td>1499.000000</td>\n",
       "      <td>500.000000</td>\n",
       "      <td>5.000000</td>\n",
       "      <td>1265.000000</td>\n",
       "      <td>30.000000</td>\n",
       "      <td>4.000000</td>\n",
       "      <td>23.105018</td>\n",
       "      <td>50</td>\n",
       "      <td>2.000000</td>\n",
       "    </tr>\n",
       "  </tbody>\n",
       "</table>\n",
       "<p>1077024 rows × 12 columns</p>\n",
       "</div>"
      ],
      "text/plain": [
       "               TENURE       MONTANT  FREQUENCE_RECH       REVENUE  \\\n",
       "0        K > 24 month  20000.000000       47.000000  21602.000000   \n",
       "1        K > 24 month   5529.210895       11.523756   5506.050798   \n",
       "2        K > 24 month   5529.210895       11.523756   5506.050798   \n",
       "3        K > 24 month   7900.000000       19.000000   7896.000000   \n",
       "4        K > 24 month  12350.000000       21.000000  12351.000000   \n",
       "...               ...           ...             ...           ...   \n",
       "1077019  K > 24 month   5529.210895       11.523756   5506.050798   \n",
       "1077020  K > 24 month   2500.000000        5.000000   2500.000000   \n",
       "1077021  K > 24 month   5529.210895       11.523756   5506.050798   \n",
       "1077022  K > 24 month    600.000000        1.000000    600.000000   \n",
       "1077023  K > 24 month   1500.000000        4.000000   1499.000000   \n",
       "\n",
       "         ARPU_SEGMENT  FREQUENCE  DATA_VOLUME       ON_NET      ORANGE  \\\n",
       "0         7201.000000  52.000000  8835.000000  3391.000000  396.000000   \n",
       "1         1835.355961  13.974439  3368.801722   277.065798   95.160804   \n",
       "2         1835.355961  13.974439  3368.801722   277.065798   95.160804   \n",
       "3         2632.000000  25.000000  9385.000000    27.000000   46.000000   \n",
       "4         4117.000000  29.000000  9360.000000    66.000000  102.000000   \n",
       "...               ...        ...          ...          ...         ...   \n",
       "1077019   1835.355961  13.974439  3368.801722   277.065798   95.160804   \n",
       "1077020    833.000000   5.000000     0.000000    15.000000   77.000000   \n",
       "1077021   1835.355961  13.974439  3368.801722   277.065798   95.160804   \n",
       "1077022    200.000000   1.000000   591.000000    11.000000   37.000000   \n",
       "1077023    500.000000   5.000000  1265.000000    30.000000    4.000000   \n",
       "\n",
       "               TIGO  REGULARITY  FREQ_TOP_PACK  \n",
       "0        185.000000          62      30.000000  \n",
       "1         23.105018           3       9.262446  \n",
       "2         23.105018           1       9.262446  \n",
       "3         20.000000          61       7.000000  \n",
       "4         34.000000          56      11.000000  \n",
       "...             ...         ...            ...  \n",
       "1077019   23.105018          16       9.262446  \n",
       "1077020   23.105018          34       2.000000  \n",
       "1077021   23.105018           3       9.262446  \n",
       "1077022    5.000000          16       1.000000  \n",
       "1077023   23.105018          50       2.000000  \n",
       "\n",
       "[1077024 rows x 12 columns]"
      ]
     },
     "execution_count": 30,
     "metadata": {},
     "output_type": "execute_result"
    }
   ],
   "source": [
    "X"
   ]
  },
  {
   "cell_type": "code",
   "execution_count": 31,
   "metadata": {},
   "outputs": [
    {
     "data": {
      "text/plain": [
       "0          0\n",
       "1          0\n",
       "2          0\n",
       "3          0\n",
       "4          0\n",
       "          ..\n",
       "1077019    0\n",
       "1077020    0\n",
       "1077021    1\n",
       "1077022    0\n",
       "1077023    0\n",
       "Name: CHURN, Length: 1077024, dtype: int64"
      ]
     },
     "execution_count": 31,
     "metadata": {},
     "output_type": "execute_result"
    }
   ],
   "source": [
    "y"
   ]
  },
  {
   "cell_type": "markdown",
   "metadata": {},
   "source": [
    "#### Balancing of the data "
   ]
  },
  {
   "cell_type": "code",
   "execution_count": 32,
   "metadata": {},
   "outputs": [
    {
     "name": "stdout",
     "output_type": "stream",
     "text": [
      "CHURN\n",
      "0    875031\n",
      "1    201993\n",
      "Name: count, dtype: int64\n"
     ]
    }
   ],
   "source": [
    "# checking if the data is balance \n",
    "class_counts = df_train['CHURN'].value_counts()\n",
    "print(class_counts)\n",
    "\n"
   ]
  },
  {
   "cell_type": "markdown",
   "metadata": {},
   "source": [
    "### since the data is not balance we have to now balance the data "
   ]
  },
  {
   "cell_type": "code",
   "execution_count": 33,
   "metadata": {},
   "outputs": [
    {
     "name": "stdout",
     "output_type": "stream",
     "text": [
      "Class Distribution Before Oversampling:\n",
      "CHURN\n",
      "0    700072\n",
      "1    161547\n",
      "Name: count, dtype: int64\n",
      "Class Distribution After Oversampling:\n",
      "CHURN\n",
      "0    700072\n",
      "1    700072\n",
      "Name: count, dtype: int64\n"
     ]
    }
   ],
   "source": [
    "ros = RandomOverSampler(random_state=10)\n",
    "X_train_resampled, y_train_resampled = ros.fit_resample(X_train, y_train)\n",
    "print(\"Class Distribution Before Oversampling:\")\n",
    "print(y_train.value_counts())\n",
    "\n",
    "print(\"Class Distribution After Oversampling:\")\n",
    "print(y_train_resampled.value_counts())"
   ]
  },
  {
   "cell_type": "markdown",
   "metadata": {},
   "source": [
    "## Modeling "
   ]
  },
  {
   "cell_type": "code",
   "execution_count": 34,
   "metadata": {},
   "outputs": [],
   "source": [
    "#df has both numerical and categorical columns\n",
    "#categorical columns\n",
    "categorical_cols = ['TENURE']\n",
    "\n",
    "numerical_cols = ['MONTANT', 'FREQUENCE_RECH', 'REVENUE', 'ARPU_SEGMENT',\n",
    "       'FREQUENCE', 'DATA_VOLUME', 'ON_NET', 'ORANGE', 'TIGO', 'REGULARITY', 'FREQ_TOP_PACK']"
   ]
  },
  {
   "cell_type": "code",
   "execution_count": 35,
   "metadata": {},
   "outputs": [],
   "source": [
    "# Define numerical and categorical transformers\n",
    "numerical_transformer = Pipeline(steps=[\n",
    "    ('scaler', StandardScaler())\n",
    "])\n",
    "\n",
    "categorical_transformer = Pipeline(steps=[\n",
    "    ('onehot', OneHotEncoder(handle_unknown='ignore'))\n",
    "])"
   ]
  },
  {
   "cell_type": "code",
   "execution_count": 36,
   "metadata": {},
   "outputs": [],
   "source": [
    "# Combine transformers using ColumnTransformer\n",
    "preprocessor = ColumnTransformer(\n",
    "    transformers=[\n",
    "        ('num', numerical_transformer, numerical_cols),\n",
    "        ('cat', categorical_transformer, categorical_cols)\n",
    "    ])\n",
    "\n",
    "# Create the full pipeline\n",
    "Xgb_pipeline = Pipeline(steps=[\n",
    "    ('preprocessor', preprocessor),\n",
    "\n",
    "    ('xgb_classifier', XGBClassifier())  # the_model to be use \n",
    "])\n",
    "decision_tree_pipeline = Pipeline(steps=[\n",
    "    ('preprocessor', preprocessor),\n",
    "    ('decision_tree', DecisionTreeClassifier())\n",
    "])\n"
   ]
  },
  {
   "cell_type": "markdown",
   "metadata": {},
   "source": [
    "#### Since our dataset is huge we decide to resample our data to 20%"
   ]
  },
  {
   "cell_type": "code",
   "execution_count": 37,
   "metadata": {},
   "outputs": [
    {
     "data": {
      "text/html": [
       "<style>#sk-container-id-1 {color: black;}#sk-container-id-1 pre{padding: 0;}#sk-container-id-1 div.sk-toggleable {background-color: white;}#sk-container-id-1 label.sk-toggleable__label {cursor: pointer;display: block;width: 100%;margin-bottom: 0;padding: 0.3em;box-sizing: border-box;text-align: center;}#sk-container-id-1 label.sk-toggleable__label-arrow:before {content: \"▸\";float: left;margin-right: 0.25em;color: #696969;}#sk-container-id-1 label.sk-toggleable__label-arrow:hover:before {color: black;}#sk-container-id-1 div.sk-estimator:hover label.sk-toggleable__label-arrow:before {color: black;}#sk-container-id-1 div.sk-toggleable__content {max-height: 0;max-width: 0;overflow: hidden;text-align: left;background-color: #f0f8ff;}#sk-container-id-1 div.sk-toggleable__content pre {margin: 0.2em;color: black;border-radius: 0.25em;background-color: #f0f8ff;}#sk-container-id-1 input.sk-toggleable__control:checked~div.sk-toggleable__content {max-height: 200px;max-width: 100%;overflow: auto;}#sk-container-id-1 input.sk-toggleable__control:checked~label.sk-toggleable__label-arrow:before {content: \"▾\";}#sk-container-id-1 div.sk-estimator input.sk-toggleable__control:checked~label.sk-toggleable__label {background-color: #d4ebff;}#sk-container-id-1 div.sk-label input.sk-toggleable__control:checked~label.sk-toggleable__label {background-color: #d4ebff;}#sk-container-id-1 input.sk-hidden--visually {border: 0;clip: rect(1px 1px 1px 1px);clip: rect(1px, 1px, 1px, 1px);height: 1px;margin: -1px;overflow: hidden;padding: 0;position: absolute;width: 1px;}#sk-container-id-1 div.sk-estimator {font-family: monospace;background-color: #f0f8ff;border: 1px dotted black;border-radius: 0.25em;box-sizing: border-box;margin-bottom: 0.5em;}#sk-container-id-1 div.sk-estimator:hover {background-color: #d4ebff;}#sk-container-id-1 div.sk-parallel-item::after {content: \"\";width: 100%;border-bottom: 1px solid gray;flex-grow: 1;}#sk-container-id-1 div.sk-label:hover label.sk-toggleable__label {background-color: #d4ebff;}#sk-container-id-1 div.sk-serial::before {content: \"\";position: absolute;border-left: 1px solid gray;box-sizing: border-box;top: 0;bottom: 0;left: 50%;z-index: 0;}#sk-container-id-1 div.sk-serial {display: flex;flex-direction: column;align-items: center;background-color: white;padding-right: 0.2em;padding-left: 0.2em;position: relative;}#sk-container-id-1 div.sk-item {position: relative;z-index: 1;}#sk-container-id-1 div.sk-parallel {display: flex;align-items: stretch;justify-content: center;background-color: white;position: relative;}#sk-container-id-1 div.sk-item::before, #sk-container-id-1 div.sk-parallel-item::before {content: \"\";position: absolute;border-left: 1px solid gray;box-sizing: border-box;top: 0;bottom: 0;left: 50%;z-index: -1;}#sk-container-id-1 div.sk-parallel-item {display: flex;flex-direction: column;z-index: 1;position: relative;background-color: white;}#sk-container-id-1 div.sk-parallel-item:first-child::after {align-self: flex-end;width: 50%;}#sk-container-id-1 div.sk-parallel-item:last-child::after {align-self: flex-start;width: 50%;}#sk-container-id-1 div.sk-parallel-item:only-child::after {width: 0;}#sk-container-id-1 div.sk-dashed-wrapped {border: 1px dashed gray;margin: 0 0.4em 0.5em 0.4em;box-sizing: border-box;padding-bottom: 0.4em;background-color: white;}#sk-container-id-1 div.sk-label label {font-family: monospace;font-weight: bold;display: inline-block;line-height: 1.2em;}#sk-container-id-1 div.sk-label-container {text-align: center;}#sk-container-id-1 div.sk-container {/* jupyter's `normalize.less` sets `[hidden] { display: none; }` but bootstrap.min.css set `[hidden] { display: none !important; }` so we also need the `!important` here to be able to override the default hidden behavior on the sphinx rendered scikit-learn.org. See: https://github.com/scikit-learn/scikit-learn/issues/21755 */display: inline-block !important;position: relative;}#sk-container-id-1 div.sk-text-repr-fallback {display: none;}</style><div id=\"sk-container-id-1\" class=\"sk-top-container\"><div class=\"sk-text-repr-fallback\"><pre>Pipeline(steps=[(&#x27;preprocessor&#x27;,\n",
       "                 ColumnTransformer(transformers=[(&#x27;num&#x27;,\n",
       "                                                  Pipeline(steps=[(&#x27;scaler&#x27;,\n",
       "                                                                   StandardScaler())]),\n",
       "                                                  [&#x27;MONTANT&#x27;, &#x27;FREQUENCE_RECH&#x27;,\n",
       "                                                   &#x27;REVENUE&#x27;, &#x27;ARPU_SEGMENT&#x27;,\n",
       "                                                   &#x27;FREQUENCE&#x27;, &#x27;DATA_VOLUME&#x27;,\n",
       "                                                   &#x27;ON_NET&#x27;, &#x27;ORANGE&#x27;, &#x27;TIGO&#x27;,\n",
       "                                                   &#x27;REGULARITY&#x27;,\n",
       "                                                   &#x27;FREQ_TOP_PACK&#x27;]),\n",
       "                                                 (&#x27;cat&#x27;,\n",
       "                                                  Pipeline(steps=[(&#x27;onehot&#x27;,\n",
       "                                                                   OneHotEncoder(handle_unknown=&#x27;ignore&#x27;))]),\n",
       "                                                  [&#x27;TENURE&#x27;])])),\n",
       "                (&#x27;xgb_cl...\n",
       "                               feature_types=None, gamma=None, grow_policy=None,\n",
       "                               importance_type=None,\n",
       "                               interaction_constraints=None, learning_rate=None,\n",
       "                               max_bin=None, max_cat_threshold=None,\n",
       "                               max_cat_to_onehot=None, max_delta_step=None,\n",
       "                               max_depth=None, max_leaves=None,\n",
       "                               min_child_weight=None, missing=nan,\n",
       "                               monotone_constraints=None, multi_strategy=None,\n",
       "                               n_estimators=None, n_jobs=None,\n",
       "                               num_parallel_tree=None, random_state=None, ...))])</pre><b>In a Jupyter environment, please rerun this cell to show the HTML representation or trust the notebook. <br />On GitHub, the HTML representation is unable to render, please try loading this page with nbviewer.org.</b></div><div class=\"sk-container\" hidden><div class=\"sk-item sk-dashed-wrapped\"><div class=\"sk-label-container\"><div class=\"sk-label sk-toggleable\"><input class=\"sk-toggleable__control sk-hidden--visually\" id=\"sk-estimator-id-1\" type=\"checkbox\" ><label for=\"sk-estimator-id-1\" class=\"sk-toggleable__label sk-toggleable__label-arrow\">Pipeline</label><div class=\"sk-toggleable__content\"><pre>Pipeline(steps=[(&#x27;preprocessor&#x27;,\n",
       "                 ColumnTransformer(transformers=[(&#x27;num&#x27;,\n",
       "                                                  Pipeline(steps=[(&#x27;scaler&#x27;,\n",
       "                                                                   StandardScaler())]),\n",
       "                                                  [&#x27;MONTANT&#x27;, &#x27;FREQUENCE_RECH&#x27;,\n",
       "                                                   &#x27;REVENUE&#x27;, &#x27;ARPU_SEGMENT&#x27;,\n",
       "                                                   &#x27;FREQUENCE&#x27;, &#x27;DATA_VOLUME&#x27;,\n",
       "                                                   &#x27;ON_NET&#x27;, &#x27;ORANGE&#x27;, &#x27;TIGO&#x27;,\n",
       "                                                   &#x27;REGULARITY&#x27;,\n",
       "                                                   &#x27;FREQ_TOP_PACK&#x27;]),\n",
       "                                                 (&#x27;cat&#x27;,\n",
       "                                                  Pipeline(steps=[(&#x27;onehot&#x27;,\n",
       "                                                                   OneHotEncoder(handle_unknown=&#x27;ignore&#x27;))]),\n",
       "                                                  [&#x27;TENURE&#x27;])])),\n",
       "                (&#x27;xgb_cl...\n",
       "                               feature_types=None, gamma=None, grow_policy=None,\n",
       "                               importance_type=None,\n",
       "                               interaction_constraints=None, learning_rate=None,\n",
       "                               max_bin=None, max_cat_threshold=None,\n",
       "                               max_cat_to_onehot=None, max_delta_step=None,\n",
       "                               max_depth=None, max_leaves=None,\n",
       "                               min_child_weight=None, missing=nan,\n",
       "                               monotone_constraints=None, multi_strategy=None,\n",
       "                               n_estimators=None, n_jobs=None,\n",
       "                               num_parallel_tree=None, random_state=None, ...))])</pre></div></div></div><div class=\"sk-serial\"><div class=\"sk-item sk-dashed-wrapped\"><div class=\"sk-label-container\"><div class=\"sk-label sk-toggleable\"><input class=\"sk-toggleable__control sk-hidden--visually\" id=\"sk-estimator-id-2\" type=\"checkbox\" ><label for=\"sk-estimator-id-2\" class=\"sk-toggleable__label sk-toggleable__label-arrow\">preprocessor: ColumnTransformer</label><div class=\"sk-toggleable__content\"><pre>ColumnTransformer(transformers=[(&#x27;num&#x27;,\n",
       "                                 Pipeline(steps=[(&#x27;scaler&#x27;, StandardScaler())]),\n",
       "                                 [&#x27;MONTANT&#x27;, &#x27;FREQUENCE_RECH&#x27;, &#x27;REVENUE&#x27;,\n",
       "                                  &#x27;ARPU_SEGMENT&#x27;, &#x27;FREQUENCE&#x27;, &#x27;DATA_VOLUME&#x27;,\n",
       "                                  &#x27;ON_NET&#x27;, &#x27;ORANGE&#x27;, &#x27;TIGO&#x27;, &#x27;REGULARITY&#x27;,\n",
       "                                  &#x27;FREQ_TOP_PACK&#x27;]),\n",
       "                                (&#x27;cat&#x27;,\n",
       "                                 Pipeline(steps=[(&#x27;onehot&#x27;,\n",
       "                                                  OneHotEncoder(handle_unknown=&#x27;ignore&#x27;))]),\n",
       "                                 [&#x27;TENURE&#x27;])])</pre></div></div></div><div class=\"sk-parallel\"><div class=\"sk-parallel-item\"><div class=\"sk-item\"><div class=\"sk-label-container\"><div class=\"sk-label sk-toggleable\"><input class=\"sk-toggleable__control sk-hidden--visually\" id=\"sk-estimator-id-3\" type=\"checkbox\" ><label for=\"sk-estimator-id-3\" class=\"sk-toggleable__label sk-toggleable__label-arrow\">num</label><div class=\"sk-toggleable__content\"><pre>[&#x27;MONTANT&#x27;, &#x27;FREQUENCE_RECH&#x27;, &#x27;REVENUE&#x27;, &#x27;ARPU_SEGMENT&#x27;, &#x27;FREQUENCE&#x27;, &#x27;DATA_VOLUME&#x27;, &#x27;ON_NET&#x27;, &#x27;ORANGE&#x27;, &#x27;TIGO&#x27;, &#x27;REGULARITY&#x27;, &#x27;FREQ_TOP_PACK&#x27;]</pre></div></div></div><div class=\"sk-serial\"><div class=\"sk-item\"><div class=\"sk-serial\"><div class=\"sk-item\"><div class=\"sk-estimator sk-toggleable\"><input class=\"sk-toggleable__control sk-hidden--visually\" id=\"sk-estimator-id-4\" type=\"checkbox\" ><label for=\"sk-estimator-id-4\" class=\"sk-toggleable__label sk-toggleable__label-arrow\">StandardScaler</label><div class=\"sk-toggleable__content\"><pre>StandardScaler()</pre></div></div></div></div></div></div></div></div><div class=\"sk-parallel-item\"><div class=\"sk-item\"><div class=\"sk-label-container\"><div class=\"sk-label sk-toggleable\"><input class=\"sk-toggleable__control sk-hidden--visually\" id=\"sk-estimator-id-5\" type=\"checkbox\" ><label for=\"sk-estimator-id-5\" class=\"sk-toggleable__label sk-toggleable__label-arrow\">cat</label><div class=\"sk-toggleable__content\"><pre>[&#x27;TENURE&#x27;]</pre></div></div></div><div class=\"sk-serial\"><div class=\"sk-item\"><div class=\"sk-serial\"><div class=\"sk-item\"><div class=\"sk-estimator sk-toggleable\"><input class=\"sk-toggleable__control sk-hidden--visually\" id=\"sk-estimator-id-6\" type=\"checkbox\" ><label for=\"sk-estimator-id-6\" class=\"sk-toggleable__label sk-toggleable__label-arrow\">OneHotEncoder</label><div class=\"sk-toggleable__content\"><pre>OneHotEncoder(handle_unknown=&#x27;ignore&#x27;)</pre></div></div></div></div></div></div></div></div></div></div><div class=\"sk-item\"><div class=\"sk-estimator sk-toggleable\"><input class=\"sk-toggleable__control sk-hidden--visually\" id=\"sk-estimator-id-7\" type=\"checkbox\" ><label for=\"sk-estimator-id-7\" class=\"sk-toggleable__label sk-toggleable__label-arrow\">XGBClassifier</label><div class=\"sk-toggleable__content\"><pre>XGBClassifier(base_score=None, booster=None, callbacks=None,\n",
       "              colsample_bylevel=None, colsample_bynode=None,\n",
       "              colsample_bytree=None, device=None, early_stopping_rounds=None,\n",
       "              enable_categorical=False, eval_metric=None, feature_types=None,\n",
       "              gamma=None, grow_policy=None, importance_type=None,\n",
       "              interaction_constraints=None, learning_rate=None, max_bin=None,\n",
       "              max_cat_threshold=None, max_cat_to_onehot=None,\n",
       "              max_delta_step=None, max_depth=None, max_leaves=None,\n",
       "              min_child_weight=None, missing=nan, monotone_constraints=None,\n",
       "              multi_strategy=None, n_estimators=None, n_jobs=None,\n",
       "              num_parallel_tree=None, random_state=None, ...)</pre></div></div></div></div></div></div></div>"
      ],
      "text/plain": [
       "Pipeline(steps=[('preprocessor',\n",
       "                 ColumnTransformer(transformers=[('num',\n",
       "                                                  Pipeline(steps=[('scaler',\n",
       "                                                                   StandardScaler())]),\n",
       "                                                  ['MONTANT', 'FREQUENCE_RECH',\n",
       "                                                   'REVENUE', 'ARPU_SEGMENT',\n",
       "                                                   'FREQUENCE', 'DATA_VOLUME',\n",
       "                                                   'ON_NET', 'ORANGE', 'TIGO',\n",
       "                                                   'REGULARITY',\n",
       "                                                   'FREQ_TOP_PACK']),\n",
       "                                                 ('cat',\n",
       "                                                  Pipeline(steps=[('onehot',\n",
       "                                                                   OneHotEncoder(handle_unknown='ignore'))]),\n",
       "                                                  ['TENURE'])])),\n",
       "                ('xgb_cl...\n",
       "                               feature_types=None, gamma=None, grow_policy=None,\n",
       "                               importance_type=None,\n",
       "                               interaction_constraints=None, learning_rate=None,\n",
       "                               max_bin=None, max_cat_threshold=None,\n",
       "                               max_cat_to_onehot=None, max_delta_step=None,\n",
       "                               max_depth=None, max_leaves=None,\n",
       "                               min_child_weight=None, missing=nan,\n",
       "                               monotone_constraints=None, multi_strategy=None,\n",
       "                               n_estimators=None, n_jobs=None,\n",
       "                               num_parallel_tree=None, random_state=None, ...))])"
      ]
     },
     "execution_count": 37,
     "metadata": {},
     "output_type": "execute_result"
    }
   ],
   "source": [
    "# Now you can fit and transform your data using the pipeline\n",
    "\n",
    "Xgb_pipeline.fit(X_train_resampled, y_train_resampled)\n"
   ]
  },
  {
   "cell_type": "code",
   "execution_count": 38,
   "metadata": {},
   "outputs": [
    {
     "data": {
      "text/html": [
       "<style>#sk-container-id-2 {color: black;}#sk-container-id-2 pre{padding: 0;}#sk-container-id-2 div.sk-toggleable {background-color: white;}#sk-container-id-2 label.sk-toggleable__label {cursor: pointer;display: block;width: 100%;margin-bottom: 0;padding: 0.3em;box-sizing: border-box;text-align: center;}#sk-container-id-2 label.sk-toggleable__label-arrow:before {content: \"▸\";float: left;margin-right: 0.25em;color: #696969;}#sk-container-id-2 label.sk-toggleable__label-arrow:hover:before {color: black;}#sk-container-id-2 div.sk-estimator:hover label.sk-toggleable__label-arrow:before {color: black;}#sk-container-id-2 div.sk-toggleable__content {max-height: 0;max-width: 0;overflow: hidden;text-align: left;background-color: #f0f8ff;}#sk-container-id-2 div.sk-toggleable__content pre {margin: 0.2em;color: black;border-radius: 0.25em;background-color: #f0f8ff;}#sk-container-id-2 input.sk-toggleable__control:checked~div.sk-toggleable__content {max-height: 200px;max-width: 100%;overflow: auto;}#sk-container-id-2 input.sk-toggleable__control:checked~label.sk-toggleable__label-arrow:before {content: \"▾\";}#sk-container-id-2 div.sk-estimator input.sk-toggleable__control:checked~label.sk-toggleable__label {background-color: #d4ebff;}#sk-container-id-2 div.sk-label input.sk-toggleable__control:checked~label.sk-toggleable__label {background-color: #d4ebff;}#sk-container-id-2 input.sk-hidden--visually {border: 0;clip: rect(1px 1px 1px 1px);clip: rect(1px, 1px, 1px, 1px);height: 1px;margin: -1px;overflow: hidden;padding: 0;position: absolute;width: 1px;}#sk-container-id-2 div.sk-estimator {font-family: monospace;background-color: #f0f8ff;border: 1px dotted black;border-radius: 0.25em;box-sizing: border-box;margin-bottom: 0.5em;}#sk-container-id-2 div.sk-estimator:hover {background-color: #d4ebff;}#sk-container-id-2 div.sk-parallel-item::after {content: \"\";width: 100%;border-bottom: 1px solid gray;flex-grow: 1;}#sk-container-id-2 div.sk-label:hover label.sk-toggleable__label {background-color: #d4ebff;}#sk-container-id-2 div.sk-serial::before {content: \"\";position: absolute;border-left: 1px solid gray;box-sizing: border-box;top: 0;bottom: 0;left: 50%;z-index: 0;}#sk-container-id-2 div.sk-serial {display: flex;flex-direction: column;align-items: center;background-color: white;padding-right: 0.2em;padding-left: 0.2em;position: relative;}#sk-container-id-2 div.sk-item {position: relative;z-index: 1;}#sk-container-id-2 div.sk-parallel {display: flex;align-items: stretch;justify-content: center;background-color: white;position: relative;}#sk-container-id-2 div.sk-item::before, #sk-container-id-2 div.sk-parallel-item::before {content: \"\";position: absolute;border-left: 1px solid gray;box-sizing: border-box;top: 0;bottom: 0;left: 50%;z-index: -1;}#sk-container-id-2 div.sk-parallel-item {display: flex;flex-direction: column;z-index: 1;position: relative;background-color: white;}#sk-container-id-2 div.sk-parallel-item:first-child::after {align-self: flex-end;width: 50%;}#sk-container-id-2 div.sk-parallel-item:last-child::after {align-self: flex-start;width: 50%;}#sk-container-id-2 div.sk-parallel-item:only-child::after {width: 0;}#sk-container-id-2 div.sk-dashed-wrapped {border: 1px dashed gray;margin: 0 0.4em 0.5em 0.4em;box-sizing: border-box;padding-bottom: 0.4em;background-color: white;}#sk-container-id-2 div.sk-label label {font-family: monospace;font-weight: bold;display: inline-block;line-height: 1.2em;}#sk-container-id-2 div.sk-label-container {text-align: center;}#sk-container-id-2 div.sk-container {/* jupyter's `normalize.less` sets `[hidden] { display: none; }` but bootstrap.min.css set `[hidden] { display: none !important; }` so we also need the `!important` here to be able to override the default hidden behavior on the sphinx rendered scikit-learn.org. See: https://github.com/scikit-learn/scikit-learn/issues/21755 */display: inline-block !important;position: relative;}#sk-container-id-2 div.sk-text-repr-fallback {display: none;}</style><div id=\"sk-container-id-2\" class=\"sk-top-container\"><div class=\"sk-text-repr-fallback\"><pre>Pipeline(steps=[(&#x27;preprocessor&#x27;,\n",
       "                 ColumnTransformer(transformers=[(&#x27;num&#x27;,\n",
       "                                                  Pipeline(steps=[(&#x27;scaler&#x27;,\n",
       "                                                                   StandardScaler())]),\n",
       "                                                  [&#x27;MONTANT&#x27;, &#x27;FREQUENCE_RECH&#x27;,\n",
       "                                                   &#x27;REVENUE&#x27;, &#x27;ARPU_SEGMENT&#x27;,\n",
       "                                                   &#x27;FREQUENCE&#x27;, &#x27;DATA_VOLUME&#x27;,\n",
       "                                                   &#x27;ON_NET&#x27;, &#x27;ORANGE&#x27;, &#x27;TIGO&#x27;,\n",
       "                                                   &#x27;REGULARITY&#x27;,\n",
       "                                                   &#x27;FREQ_TOP_PACK&#x27;]),\n",
       "                                                 (&#x27;cat&#x27;,\n",
       "                                                  Pipeline(steps=[(&#x27;onehot&#x27;,\n",
       "                                                                   OneHotEncoder(handle_unknown=&#x27;ignore&#x27;))]),\n",
       "                                                  [&#x27;TENURE&#x27;])])),\n",
       "                (&#x27;decision_tree&#x27;, DecisionTreeClassifier())])</pre><b>In a Jupyter environment, please rerun this cell to show the HTML representation or trust the notebook. <br />On GitHub, the HTML representation is unable to render, please try loading this page with nbviewer.org.</b></div><div class=\"sk-container\" hidden><div class=\"sk-item sk-dashed-wrapped\"><div class=\"sk-label-container\"><div class=\"sk-label sk-toggleable\"><input class=\"sk-toggleable__control sk-hidden--visually\" id=\"sk-estimator-id-8\" type=\"checkbox\" ><label for=\"sk-estimator-id-8\" class=\"sk-toggleable__label sk-toggleable__label-arrow\">Pipeline</label><div class=\"sk-toggleable__content\"><pre>Pipeline(steps=[(&#x27;preprocessor&#x27;,\n",
       "                 ColumnTransformer(transformers=[(&#x27;num&#x27;,\n",
       "                                                  Pipeline(steps=[(&#x27;scaler&#x27;,\n",
       "                                                                   StandardScaler())]),\n",
       "                                                  [&#x27;MONTANT&#x27;, &#x27;FREQUENCE_RECH&#x27;,\n",
       "                                                   &#x27;REVENUE&#x27;, &#x27;ARPU_SEGMENT&#x27;,\n",
       "                                                   &#x27;FREQUENCE&#x27;, &#x27;DATA_VOLUME&#x27;,\n",
       "                                                   &#x27;ON_NET&#x27;, &#x27;ORANGE&#x27;, &#x27;TIGO&#x27;,\n",
       "                                                   &#x27;REGULARITY&#x27;,\n",
       "                                                   &#x27;FREQ_TOP_PACK&#x27;]),\n",
       "                                                 (&#x27;cat&#x27;,\n",
       "                                                  Pipeline(steps=[(&#x27;onehot&#x27;,\n",
       "                                                                   OneHotEncoder(handle_unknown=&#x27;ignore&#x27;))]),\n",
       "                                                  [&#x27;TENURE&#x27;])])),\n",
       "                (&#x27;decision_tree&#x27;, DecisionTreeClassifier())])</pre></div></div></div><div class=\"sk-serial\"><div class=\"sk-item sk-dashed-wrapped\"><div class=\"sk-label-container\"><div class=\"sk-label sk-toggleable\"><input class=\"sk-toggleable__control sk-hidden--visually\" id=\"sk-estimator-id-9\" type=\"checkbox\" ><label for=\"sk-estimator-id-9\" class=\"sk-toggleable__label sk-toggleable__label-arrow\">preprocessor: ColumnTransformer</label><div class=\"sk-toggleable__content\"><pre>ColumnTransformer(transformers=[(&#x27;num&#x27;,\n",
       "                                 Pipeline(steps=[(&#x27;scaler&#x27;, StandardScaler())]),\n",
       "                                 [&#x27;MONTANT&#x27;, &#x27;FREQUENCE_RECH&#x27;, &#x27;REVENUE&#x27;,\n",
       "                                  &#x27;ARPU_SEGMENT&#x27;, &#x27;FREQUENCE&#x27;, &#x27;DATA_VOLUME&#x27;,\n",
       "                                  &#x27;ON_NET&#x27;, &#x27;ORANGE&#x27;, &#x27;TIGO&#x27;, &#x27;REGULARITY&#x27;,\n",
       "                                  &#x27;FREQ_TOP_PACK&#x27;]),\n",
       "                                (&#x27;cat&#x27;,\n",
       "                                 Pipeline(steps=[(&#x27;onehot&#x27;,\n",
       "                                                  OneHotEncoder(handle_unknown=&#x27;ignore&#x27;))]),\n",
       "                                 [&#x27;TENURE&#x27;])])</pre></div></div></div><div class=\"sk-parallel\"><div class=\"sk-parallel-item\"><div class=\"sk-item\"><div class=\"sk-label-container\"><div class=\"sk-label sk-toggleable\"><input class=\"sk-toggleable__control sk-hidden--visually\" id=\"sk-estimator-id-10\" type=\"checkbox\" ><label for=\"sk-estimator-id-10\" class=\"sk-toggleable__label sk-toggleable__label-arrow\">num</label><div class=\"sk-toggleable__content\"><pre>[&#x27;MONTANT&#x27;, &#x27;FREQUENCE_RECH&#x27;, &#x27;REVENUE&#x27;, &#x27;ARPU_SEGMENT&#x27;, &#x27;FREQUENCE&#x27;, &#x27;DATA_VOLUME&#x27;, &#x27;ON_NET&#x27;, &#x27;ORANGE&#x27;, &#x27;TIGO&#x27;, &#x27;REGULARITY&#x27;, &#x27;FREQ_TOP_PACK&#x27;]</pre></div></div></div><div class=\"sk-serial\"><div class=\"sk-item\"><div class=\"sk-serial\"><div class=\"sk-item\"><div class=\"sk-estimator sk-toggleable\"><input class=\"sk-toggleable__control sk-hidden--visually\" id=\"sk-estimator-id-11\" type=\"checkbox\" ><label for=\"sk-estimator-id-11\" class=\"sk-toggleable__label sk-toggleable__label-arrow\">StandardScaler</label><div class=\"sk-toggleable__content\"><pre>StandardScaler()</pre></div></div></div></div></div></div></div></div><div class=\"sk-parallel-item\"><div class=\"sk-item\"><div class=\"sk-label-container\"><div class=\"sk-label sk-toggleable\"><input class=\"sk-toggleable__control sk-hidden--visually\" id=\"sk-estimator-id-12\" type=\"checkbox\" ><label for=\"sk-estimator-id-12\" class=\"sk-toggleable__label sk-toggleable__label-arrow\">cat</label><div class=\"sk-toggleable__content\"><pre>[&#x27;TENURE&#x27;]</pre></div></div></div><div class=\"sk-serial\"><div class=\"sk-item\"><div class=\"sk-serial\"><div class=\"sk-item\"><div class=\"sk-estimator sk-toggleable\"><input class=\"sk-toggleable__control sk-hidden--visually\" id=\"sk-estimator-id-13\" type=\"checkbox\" ><label for=\"sk-estimator-id-13\" class=\"sk-toggleable__label sk-toggleable__label-arrow\">OneHotEncoder</label><div class=\"sk-toggleable__content\"><pre>OneHotEncoder(handle_unknown=&#x27;ignore&#x27;)</pre></div></div></div></div></div></div></div></div></div></div><div class=\"sk-item\"><div class=\"sk-estimator sk-toggleable\"><input class=\"sk-toggleable__control sk-hidden--visually\" id=\"sk-estimator-id-14\" type=\"checkbox\" ><label for=\"sk-estimator-id-14\" class=\"sk-toggleable__label sk-toggleable__label-arrow\">DecisionTreeClassifier</label><div class=\"sk-toggleable__content\"><pre>DecisionTreeClassifier()</pre></div></div></div></div></div></div></div>"
      ],
      "text/plain": [
       "Pipeline(steps=[('preprocessor',\n",
       "                 ColumnTransformer(transformers=[('num',\n",
       "                                                  Pipeline(steps=[('scaler',\n",
       "                                                                   StandardScaler())]),\n",
       "                                                  ['MONTANT', 'FREQUENCE_RECH',\n",
       "                                                   'REVENUE', 'ARPU_SEGMENT',\n",
       "                                                   'FREQUENCE', 'DATA_VOLUME',\n",
       "                                                   'ON_NET', 'ORANGE', 'TIGO',\n",
       "                                                   'REGULARITY',\n",
       "                                                   'FREQ_TOP_PACK']),\n",
       "                                                 ('cat',\n",
       "                                                  Pipeline(steps=[('onehot',\n",
       "                                                                   OneHotEncoder(handle_unknown='ignore'))]),\n",
       "                                                  ['TENURE'])])),\n",
       "                ('decision_tree', DecisionTreeClassifier())])"
      ]
     },
     "execution_count": 38,
     "metadata": {},
     "output_type": "execute_result"
    }
   ],
   "source": [
    "decision_tree_pipeline.fit(X_train_resampled, y_train_resampled)\n"
   ]
  },
  {
   "cell_type": "code",
   "execution_count": 39,
   "metadata": {},
   "outputs": [
    {
     "name": "stdout",
     "output_type": "stream",
     "text": [
      "\n",
      "Classification Report for XGBClassifier:\n",
      "              precision    recall  f1-score   support\n",
      "\n",
      "           0       0.96      0.79      0.87    174959\n",
      "           1       0.49      0.86      0.62     40446\n",
      "\n",
      "    accuracy                           0.80    215405\n",
      "   macro avg       0.72      0.83      0.74    215405\n",
      "weighted avg       0.87      0.80      0.82    215405\n",
      "\n"
     ]
    }
   ],
   "source": [
    "# Make predictions\n",
    "xgb_pred = Xgb_pipeline.predict(X_eval)\n",
    "# Print classification reports with model names\n",
    "print(\"\\nClassification Report for XGBClassifier:\")\n",
    "print(classification_report(y_eval, xgb_pred))\n",
    "\n"
   ]
  },
  {
   "cell_type": "markdown",
   "metadata": {},
   "source": []
  },
  {
   "cell_type": "code",
   "execution_count": 40,
   "metadata": {},
   "outputs": [
    {
     "name": "stdout",
     "output_type": "stream",
     "text": [
      "\n",
      "Classification Report for DecisionTreeClassifier:\n",
      "              precision    recall  f1-score   support\n",
      "\n",
      "           0       0.95      0.80      0.87    174959\n",
      "           1       0.49      0.81      0.61     40446\n",
      "\n",
      "    accuracy                           0.80    215405\n",
      "   macro avg       0.72      0.80      0.74    215405\n",
      "weighted avg       0.86      0.80      0.82    215405\n",
      "\n"
     ]
    }
   ],
   "source": [
    "#make prediction\n",
    "decision_tree_pred = decision_tree_pipeline.predict(X_eval)\n",
    "#print classification report with the model names\n",
    "print(\"\\nClassification Report for DecisionTreeClassifier:\")\n",
    "print(classification_report(y_eval, decision_tree_pred))"
   ]
  },
  {
   "cell_type": "markdown",
   "metadata": {},
   "source": [
    "### saving of the model and pipleline "
   ]
  },
  {
   "cell_type": "code",
   "execution_count": 41,
   "metadata": {},
   "outputs": [
    {
     "data": {
      "text/plain": [
       "['xgb.joblib']"
      ]
     },
     "execution_count": 41,
     "metadata": {},
     "output_type": "execute_result"
    }
   ],
   "source": [
    "\n",
    "# Save the best Xgb model\n",
    "joblib.dump(Xgb_pipeline, 'xgb.joblib')"
   ]
  },
  {
   "cell_type": "code",
   "execution_count": 42,
   "metadata": {},
   "outputs": [
    {
     "data": {
      "text/plain": [
       "['dt.joblib']"
      ]
     },
     "execution_count": 42,
     "metadata": {},
     "output_type": "execute_result"
    }
   ],
   "source": [
    "# Save the best decision tree model\n",
    "joblib.dump( decision_tree_pipeline, 'dt.joblib')"
   ]
  },
  {
   "cell_type": "markdown",
   "metadata": {},
   "source": [
    "## Evaluation "
   ]
  },
  {
   "cell_type": "code",
   "execution_count": 43,
   "metadata": {},
   "outputs": [],
   "source": [
    "#  load the model \n",
    "loaded_model = joblib.load('model/xgb.joblib')"
   ]
  },
  {
   "cell_type": "code",
   "execution_count": 44,
   "metadata": {},
   "outputs": [
    {
     "data": {
      "text/plain": [
       "array([0, 1, 0, ..., 1, 0, 1])"
      ]
     },
     "execution_count": 44,
     "metadata": {},
     "output_type": "execute_result"
    }
   ],
   "source": [
    "# fit the model on the train data\n",
    "model = loaded_model.fit(X_train_resampled, y_train_resampled)\n",
    "\n",
    "# Make predictions on the test data\n",
    "test_predictions = model.predict(df_test)\n",
    "\n",
    "test_predictions"
   ]
  },
  {
   "cell_type": "markdown",
   "metadata": {},
   "source": []
  },
  {
   "cell_type": "code",
   "execution_count": 45,
   "metadata": {},
   "outputs": [
    {
     "name": "stdout",
     "output_type": "stream",
     "text": [
      "Unique values for TENURE: ['I 18-21 month' 'K > 24 month' 'G 12-15 month' 'J 21-24 month'\n",
      " 'H 15-18 month' 'F 9-12 month' 'E 6-9 month' 'D 3-6 month']\n",
      "Unique values for MONTANT: [ 2500.         5506.5477586  5100.        ...  8198.         3875.\n",
      " 14340.       ]\n",
      "Unique values for FREQUENCE_RECH: [  5.          11.48394034   7.           1.           4.\n",
      "  29.           8.           3.           9.          25.\n",
      "   2.          23.          13.          32.          12.\n",
      "   6.          16.          10.          14.          24.\n",
      "  15.          19.          21.          18.          44.\n",
      "  20.          43.          64.          36.          11.\n",
      "  17.          30.          50.          27.          22.\n",
      "  35.          34.          38.          58.          26.\n",
      "  31.          54.          39.          28.          70.\n",
      "  41.          66.          57.          49.          55.\n",
      "  76.          33.          65.          61.          46.\n",
      "  40.          73.          56.          47.          37.\n",
      "  52.          63.          78.          68.          48.\n",
      "  77.          42.          45.          59.          69.\n",
      "  71.          67.          51.          81.          62.\n",
      "  53.          80.          75.          79.          87.\n",
      "  83.          72.          86.          60.          74.\n",
      "  98.         101.          92.          97.          88.\n",
      "  93.          82.         102.          84.          89.\n",
      "  91.          85.          94.          90.         104.\n",
      " 120.         109.         112.         100.         108.\n",
      "  95.          99.        ]\n",
      "Unique values for REVENUE: [ 2500.          5486.23341665  5637.         ... 12960.\n",
      " 27215.         38453.        ]\n",
      "Unique values for ARPU_SEGMENT: [  833.          1828.75028081  1879.         ... 19333.\n",
      "  9072.         12818.        ]\n",
      "Unique values for FREQUENCE: [ 5.         13.93967031 15.          4.         35.          8.\n",
      " 12.          1.          9.         31.          6.          2.\n",
      "  7.         24.         30.         16.         10.         11.\n",
      "  3.         32.         17.         22.         13.         34.\n",
      " 40.         14.         25.         27.         18.         28.\n",
      " 29.         33.         21.         47.         45.         71.\n",
      " 26.         19.         23.         38.         51.         44.\n",
      " 43.         39.         60.         56.         57.         41.\n",
      " 73.         74.         48.         67.         78.         59.\n",
      " 37.         42.         36.         46.         66.         20.\n",
      " 55.         62.         85.         64.         61.         63.\n",
      " 65.         77.         49.         52.         79.         58.\n",
      " 89.         83.         50.         68.         54.         53.\n",
      " 90.         72.         70.         80.         86.         82.\n",
      " 87.         81.         76.         69.         75.         88.\n",
      " 84.         91.        ]\n",
      "Unique values for DATA_VOLUME: [    0.          3358.42115059  7783.         ... 41639.\n",
      " 16612.         24787.        ]\n",
      "Unique values for ON_NET: [  64.          281.21061348   30.         ... 2354.         5258.\n",
      " 3837.        ]\n",
      "Unique values for ORANGE: [  70.           94.61163916   24.         ... 1753.          983.\n",
      " 3261.        ]\n",
      "Unique values for TIGO: [2.29522696e+01 0.00000000e+00 7.00000000e+00 3.00000000e+00\n",
      " 1.20000000e+01 5.60000000e+01 5.00000000e+00 8.00000000e+00\n",
      " 1.00000000e+00 6.00000000e+00 1.10000000e+01 4.00000000e+00\n",
      " 3.20000000e+01 9.00000000e+00 1.70000000e+01 2.00000000e+00\n",
      " 7.90000000e+01 2.20000000e+01 3.00000000e+01 2.50000000e+01\n",
      " 4.10000000e+01 1.90000000e+01 1.80000000e+01 2.70000000e+01\n",
      " 2.00000000e+01 1.30000000e+01 3.70000000e+01 1.24800000e+03\n",
      " 3.60000000e+01 3.10000000e+01 6.70000000e+01 1.60000000e+01\n",
      " 9.30000000e+01 1.52000000e+02 1.22000000e+02 7.50000000e+01\n",
      " 8.10000000e+01 1.00000000e+01 5.20000000e+01 1.50000000e+01\n",
      " 1.24000000e+02 7.00000000e+01 2.30000000e+01 1.05000000e+02\n",
      " 1.40000000e+01 3.80000000e+01 1.45000000e+02 6.60000000e+01\n",
      " 7.20000000e+01 3.50000000e+01 4.50000000e+01 8.20000000e+01\n",
      " 4.90000000e+01 5.40000000e+01 8.80000000e+01 2.40000000e+01\n",
      " 1.07000000e+02 4.00000000e+01 4.20000000e+01 2.60000000e+01\n",
      " 6.50000000e+01 9.90000000e+01 2.80000000e+01 4.40000000e+01\n",
      " 4.30000000e+01 2.10000000e+01 5.50000000e+01 3.90000000e+02\n",
      " 3.30000000e+01 1.30000000e+02 1.86000000e+02 2.90000000e+01\n",
      " 2.24000000e+02 1.69000000e+02 3.90000000e+01 4.70000000e+01\n",
      " 6.90000000e+01 1.12000000e+02 5.70000000e+01 1.23000000e+02\n",
      " 5.30000000e+01 6.10000000e+01 5.00000000e+01 8.60000000e+01\n",
      " 3.40000000e+01 1.14000000e+02 1.65000000e+02 1.57000000e+02\n",
      " 1.11000000e+02 5.10000000e+01 9.40000000e+01 2.07000000e+02\n",
      " 2.22000000e+02 7.70000000e+01 4.60000000e+01 4.80000000e+01\n",
      " 6.20000000e+01 2.06000000e+02 1.27000000e+02 8.70000000e+01\n",
      " 1.17000000e+02 6.80000000e+01 9.00000000e+01 7.40000000e+01\n",
      " 3.06000000e+02 1.78000000e+02 9.60000000e+01 6.30000000e+01\n",
      " 1.09000000e+02 1.02000000e+02 3.88000000e+02 5.90000000e+01\n",
      " 6.00000000e+01 1.41000000e+02 2.18000000e+02 1.81000000e+02\n",
      " 2.01000000e+02 1.06000000e+02 2.50000000e+02 7.30000000e+01\n",
      " 7.60000000e+01 2.54000000e+02 8.40000000e+01 1.35000000e+02\n",
      " 8.00000000e+01 9.10000000e+01 1.03000000e+02 2.10000000e+02\n",
      " 3.82000000e+02 8.90000000e+01 1.73000000e+02 1.82000000e+02\n",
      " 3.85000000e+02 1.89000000e+02 1.63000000e+02 1.36000000e+02\n",
      " 9.50000000e+01 7.10000000e+01 2.12000000e+02 4.31000000e+02\n",
      " 1.87000000e+02 6.40000000e+01 8.50000000e+01 1.20000000e+02\n",
      " 2.23000000e+02 3.21000000e+02 1.21000000e+02 2.75000000e+02\n",
      " 6.62000000e+02 1.95000000e+02 1.46000000e+02 2.19000000e+02\n",
      " 1.67000000e+02 9.80000000e+01 1.10000000e+02 5.80000000e+01\n",
      " 2.45000000e+02 1.01000000e+02 7.80000000e+01 4.22000000e+02\n",
      " 2.37000000e+02 1.26000000e+02 6.79000000e+02 1.60000000e+02\n",
      " 6.91000000e+02 1.16000000e+02 1.43000000e+02 1.04000000e+02\n",
      " 2.59000000e+02 1.00000000e+02 1.08100000e+03 2.84000000e+02\n",
      " 1.68000000e+02 1.19000000e+02 2.05000000e+02 1.15000000e+02\n",
      " 1.58000000e+02 8.30000000e+01 1.28000000e+02 1.54000000e+02\n",
      " 3.73000000e+02 2.28000000e+02 1.25000000e+02 2.77000000e+02\n",
      " 1.97000000e+02 2.66000000e+03 2.66000000e+02 1.70000000e+02\n",
      " 9.20000000e+01 3.12000000e+02 4.89000000e+02 1.37000000e+02\n",
      " 2.33000000e+02 1.18000000e+02 3.05000000e+02 5.51000000e+02\n",
      " 3.11000000e+02 1.33000000e+02 1.61000000e+02 1.48000000e+02\n",
      " 3.20000000e+02 1.05400000e+03 2.11000000e+02 1.39000000e+02\n",
      " 3.76000000e+02 6.75000000e+02 2.89000000e+02 1.90000000e+02\n",
      " 5.82000000e+02 2.00000000e+02 1.13000000e+02 1.51000000e+02\n",
      " 3.18000000e+02 1.93000000e+02 2.86000000e+02 1.29000000e+02\n",
      " 1.96000000e+02 3.26000000e+02 4.36000000e+02 1.42000000e+02\n",
      " 4.10000000e+02 3.50000000e+02 2.02000000e+02 1.72000000e+02\n",
      " 1.79000000e+02 1.62000000e+02 2.16000000e+02 2.13700000e+03\n",
      " 4.26000000e+02 1.76000000e+02 4.52000000e+02 2.09000000e+02\n",
      " 1.83000000e+02 1.34000000e+02 1.94000000e+02 1.59000000e+02\n",
      " 2.95000000e+02 7.30000000e+02 6.66000000e+02 3.98000000e+02\n",
      " 2.42000000e+02 4.81000000e+02 9.70000000e+01 1.38000000e+02\n",
      " 2.40000000e+02 3.95000000e+02 2.31300000e+03 1.08000000e+02\n",
      " 3.97000000e+02 5.37000000e+02 2.48000000e+02 2.99000000e+02\n",
      " 7.33000000e+02 3.36000000e+02 1.75000000e+02 1.85000000e+02\n",
      " 1.77000000e+02 4.11000000e+02 1.74000000e+02 6.11000000e+02\n",
      " 1.64000000e+02 4.82000000e+02 4.87000000e+02 3.02000000e+02\n",
      " 4.70000000e+02 3.25000000e+02 2.29000000e+02 1.56000000e+02\n",
      " 3.43000000e+02 3.66000000e+02 2.41000000e+02 2.97000000e+02\n",
      " 1.79600000e+03 1.05500000e+03 1.05000000e+03 1.32000000e+02\n",
      " 2.69000000e+02 4.32000000e+02 2.70000000e+02 2.26000000e+02\n",
      " 3.33000000e+02 1.84000000e+02 4.01000000e+02 3.13000000e+02\n",
      " 1.40000000e+02 1.98000000e+02 3.31000000e+02 1.71000000e+02\n",
      " 1.50000000e+02 3.09000000e+02 8.52000000e+02 1.53000000e+02\n",
      " 3.03000000e+02 2.27000000e+02 2.67000000e+02 3.62000000e+02\n",
      " 2.51000000e+02 2.63000000e+02 2.15000000e+02 2.17000000e+02\n",
      " 4.30000000e+02 5.55000000e+02 1.88000000e+02 1.92000000e+02\n",
      " 1.16400000e+03 1.22300000e+03 2.08000000e+02 4.00000000e+02\n",
      " 2.76000000e+02 2.04000000e+02 3.24000000e+02 9.49000000e+02\n",
      " 2.34000000e+02 1.80000000e+02 2.35000000e+02 2.87000000e+02\n",
      " 1.66000000e+02 3.49000000e+02 2.58000000e+02 3.61000000e+02\n",
      " 8.07000000e+02 3.22000000e+02 3.83000000e+02 2.79000000e+02\n",
      " 2.92000000e+02 5.81000000e+02 2.21000000e+02 3.65000000e+02\n",
      " 6.90000000e+02 1.55000000e+02 5.72000000e+02 4.09000000e+02\n",
      " 4.14000000e+02 1.31000000e+02 2.68000000e+02 1.44000000e+02\n",
      " 2.52000000e+02 4.93000000e+02 1.47000000e+02 9.01000000e+02\n",
      " 8.08000000e+02 3.69000000e+02 4.59000000e+02 6.84000000e+02\n",
      " 3.63000000e+02 3.56000000e+02 1.13400000e+03 9.35000000e+02\n",
      " 6.31000000e+02 4.42000000e+02 3.19000000e+02 3.40000000e+02\n",
      " 2.14000000e+02 2.20000000e+02 2.53000000e+02 2.85000000e+02\n",
      " 5.24000000e+02 1.52200000e+03 1.70600000e+03 3.38000000e+02\n",
      " 8.12000000e+02 3.14000000e+02 3.48000000e+02 2.47000000e+02\n",
      " 4.78000000e+02 3.08000000e+02 4.76000000e+02 2.74000000e+02\n",
      " 5.39000000e+02 3.32000000e+02 3.47000000e+02 4.66000000e+02\n",
      " 7.31000000e+02 2.93000000e+02 5.65000000e+02 2.62000000e+02\n",
      " 2.55000000e+02 1.93300000e+03 2.82000000e+02 1.00500000e+03\n",
      " 3.80000000e+02 1.49000000e+02 2.56000000e+02 3.86000000e+02\n",
      " 2.61000000e+02 2.81000000e+02 2.43000000e+02 4.88000000e+02\n",
      " 3.34000000e+02 4.62000000e+02 3.16000000e+02 3.17000000e+02\n",
      " 2.31000000e+02 5.08000000e+02 4.55000000e+02 1.24600000e+03\n",
      " 2.38000000e+02 1.00400000e+03 8.37000000e+02 6.81000000e+02\n",
      " 2.46000000e+02 5.07000000e+02 3.15000000e+02 2.13000000e+02\n",
      " 2.72000000e+02 1.01100000e+03 3.37000000e+02 4.44000000e+02\n",
      " 1.91000000e+02 7.91000000e+02 4.40000000e+02 2.78000000e+02\n",
      " 4.96000000e+02 4.47000000e+02 5.93000000e+02 6.58000000e+02\n",
      " 8.28000000e+02 3.78000000e+02 4.16000000e+02 1.87100000e+03\n",
      " 2.39000000e+02 5.00000000e+02 5.91000000e+02 7.92000000e+02\n",
      " 5.21000000e+02 2.80000000e+02 8.11000000e+02 4.15000000e+02\n",
      " 4.28000000e+02 1.52000000e+03 3.35000000e+02 8.81000000e+02\n",
      " 9.45000000e+02 1.11800000e+03 6.28000000e+02 6.02000000e+02\n",
      " 2.25000000e+02 4.98000000e+02 4.03000000e+02 9.70000000e+02\n",
      " 3.74000000e+02 2.65000000e+02 4.41000000e+02 1.21600000e+03\n",
      " 2.30000000e+02 6.15000000e+02 5.48000000e+02 2.96000000e+02\n",
      " 3.46000000e+02 3.55000000e+02 3.39000000e+02 8.47000000e+02\n",
      " 4.65000000e+02 4.46000000e+02 2.36000000e+02 3.70000000e+02\n",
      " 5.52000000e+02 8.86000000e+02 3.30000000e+02 1.26800000e+03\n",
      " 6.52000000e+02 2.32000000e+02 9.26000000e+02 1.99000000e+02\n",
      " 5.58000000e+02 8.00000000e+02 4.71000000e+02 5.61000000e+02\n",
      " 1.02300000e+03 4.19000000e+02 3.27000000e+02 7.90000000e+02\n",
      " 5.54000000e+02 3.00000000e+02 2.73000000e+02 4.17000000e+02\n",
      " 3.94000000e+02 2.94000000e+02 4.33000000e+02 9.88000000e+02\n",
      " 5.43000000e+02 4.13000000e+02 3.28000000e+02 2.43300000e+03\n",
      " 2.64000000e+02 1.03900000e+03 3.10000000e+02 3.53000000e+02\n",
      " 4.57000000e+02 4.58000000e+02 3.58000000e+02 5.03000000e+02\n",
      " 4.64000000e+02 4.45000000e+02 2.49000000e+02 4.53000000e+02\n",
      " 5.31000000e+02 1.63600000e+03 5.33000000e+02 3.29000000e+02\n",
      " 4.27000000e+02 4.97000000e+02 3.08300000e+03 7.61000000e+02\n",
      " 4.72000000e+02 5.96000000e+02 4.54000000e+02 6.53000000e+02\n",
      " 8.64000000e+02 3.91000000e+02 4.60000000e+02 2.57000000e+02\n",
      " 3.99000000e+02 6.12000000e+02 1.90600000e+03 2.91000000e+02\n",
      " 5.30000000e+02 4.68000000e+02 4.24000000e+02 7.79000000e+02\n",
      " 1.91000000e+03 3.67000000e+02 8.66000000e+02 6.93000000e+02\n",
      " 1.65100000e+03 3.72000000e+02 4.08000000e+02 9.29000000e+02\n",
      " 4.73000000e+02 3.57000000e+02 2.03000000e+02 7.52000000e+02\n",
      " 7.56000000e+02 9.79000000e+02 7.98000000e+02 4.04000000e+02\n",
      " 6.37000000e+02 2.44000000e+02 1.06400000e+03 6.04000000e+02\n",
      " 6.49000000e+02 8.82000000e+02 6.07000000e+02 8.49000000e+02\n",
      " 1.82600000e+03 5.13000000e+02 4.94000000e+02 2.60000000e+02\n",
      " 5.77000000e+02 4.25000000e+02 3.23000000e+02 5.12000000e+02\n",
      " 1.28900000e+03 3.52000000e+02 1.28500000e+03 8.45000000e+02\n",
      " 3.87000000e+02 3.71000000e+02 8.34000000e+02 7.77000000e+02\n",
      " 3.44000000e+02 1.31500000e+03 9.37000000e+02 3.51000000e+02\n",
      " 3.92000000e+02 6.64000000e+02 5.60000000e+02 7.64000000e+02\n",
      " 6.50000000e+02 4.29000000e+02 6.06000000e+02 5.22000000e+02\n",
      " 4.39000000e+02 8.74000000e+02 7.84000000e+02 2.05300000e+03\n",
      " 9.93000000e+02 5.80000000e+02 8.65000000e+02 5.67000000e+02\n",
      " 9.96000000e+02 2.88000000e+02 6.08000000e+02 3.07000000e+02\n",
      " 6.94000000e+02 1.45000000e+03 4.49000000e+02 5.40000000e+02\n",
      " 9.44000000e+02 6.95000000e+02 6.18000000e+02 5.92000000e+02\n",
      " 4.07000000e+02 7.04000000e+02 4.75000000e+02 4.99000000e+02\n",
      " 1.05800000e+03 2.19500000e+03 5.25000000e+02 6.16000000e+02\n",
      " 3.41000000e+02 4.05000000e+02 3.04000000e+02 5.85000000e+02\n",
      " 8.73000000e+02 3.01000000e+02 6.38000000e+02 2.83000000e+02\n",
      " 4.43000000e+02 3.96000000e+02 4.69000000e+02 5.50000000e+02\n",
      " 6.36000000e+02 4.80000000e+02 1.55600000e+03 3.89000000e+02\n",
      " 6.05000000e+02 4.92000000e+02 6.01000000e+02 8.15000000e+02\n",
      " 4.48000000e+02 6.40000000e+02 3.64000000e+02 2.71000000e+02\n",
      " 6.42000000e+02 6.20000000e+02 7.70000000e+02 5.83000000e+02\n",
      " 5.97000000e+02 4.06000000e+02 1.15100000e+03 9.92000000e+02\n",
      " 8.32000000e+02 7.48000000e+02 8.68000000e+02 5.64000000e+02\n",
      " 1.89100000e+03 6.47000000e+02 3.81000000e+02]\n",
      "Unique values for REGULARITY: [35  2 22  6 60 15  3  9 56 61 29 52  4 57  7 10 26 59 58 50 18 30 53  1\n",
      " 13 34 37  5 41 62 28 20  8 25 55 42 51 23 48 19 12 24 47 32 39 11 27 33\n",
      " 54 49 14 44 43 45 46 17 31 40 16 21 38 36]\n",
      "Unique values for FREQ_TOP_PACK: [  5.           9.23432605   4.           1.           3.\n",
      "  29.           8.          27.           2.          21.\n",
      "  22.          13.           6.          33.          10.\n",
      "  16.          11.           7.          14.           9.\n",
      "  17.          32.          18.          48.          15.\n",
      "  24.          58.          19.          12.          31.\n",
      "  35.          52.          36.          43.          64.\n",
      "  42.          23.          40.          30.          20.\n",
      "  28.          25.          61.          39.          55.\n",
      "  44.          71.          57.          56.          41.\n",
      "  46.          34.          51.          53.          38.\n",
      " 109.          93.          87.          88.          60.\n",
      "  37.          72.          49.          47.          26.\n",
      "  50.          62.          45.          77.          54.\n",
      "  59.          98.          65.         144.          66.\n",
      "  63.          69.          82.          81.          86.\n",
      "  73.          97.          99.          70.          84.\n",
      "  68.         128.         100.          78.          67.\n",
      "  80.          74.         123.         122.          85.\n",
      "  89.          90.         106.          79.         107.\n",
      "  96.          75.          76.         101.         116.\n",
      " 102.         155.         108.         117.         115.\n",
      " 154.          92.         124.         105.          95.\n",
      "  94.          91.         167.         127.         149.\n",
      " 143.         183.         150.         133.          83.\n",
      " 146.         113.         112.         303.         119.\n",
      " 147.         103.         200.         231.         118.\n",
      " 390.         111.         135.         182.         120.\n",
      " 184.         166.         136.         126.         110.\n",
      " 121.        ]\n"
     ]
    }
   ],
   "source": [
    "import pandas as pd\n",
    "\n",
    "# Assuming df is your DataFrame\n",
    "# df = ...\n",
    "\n",
    "# List of columns\n",
    "columns_to_check = ['TENURE', 'MONTANT', 'FREQUENCE_RECH', 'REVENUE', 'ARPU_SEGMENT',\n",
    "                    'FREQUENCE', 'DATA_VOLUME', 'ON_NET', 'ORANGE', 'TIGO', 'REGULARITY',\n",
    "                    'FREQ_TOP_PACK']\n",
    "\n",
    "# Find unique values for each column\n",
    "unique_values_dict = {column: df_test[column].unique() for column in columns_to_check}\n",
    "\n",
    "# Print unique values\n",
    "for column, unique_values in unique_values_dict.items():\n",
    "    print(f\"Unique values for {column}: {unique_values}\")\n"
   ]
  }
 ],
 "metadata": {
  "kernelspec": {
   "display_name": "Python 3",
   "language": "python",
   "name": "python3"
  },
  "language_info": {
   "codemirror_mode": {
    "name": "ipython",
    "version": 3
   },
   "file_extension": ".py",
   "mimetype": "text/x-python",
   "name": "python",
   "nbconvert_exporter": "python",
   "pygments_lexer": "ipython3",
   "version": "3.11.7"
  }
 },
 "nbformat": 4,
 "nbformat_minor": 2
}
